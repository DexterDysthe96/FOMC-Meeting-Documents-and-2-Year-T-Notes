{
 "cells": [
  {
   "cell_type": "markdown",
   "id": "c25e322d",
   "metadata": {},
   "source": [
    "Saharsh Jhunjhunwala\n",
    "<br>\n",
    "Dexter Dysthe\n",
    "<br><br>\n",
    "Dr. Krstovski\n",
    "<br>\n",
    "B9340: Natural Language Processing\n",
    "<br>\n",
    "13 May 2022\n",
    "\n",
    "<font size=\"5\"><h1><center>The Impact of FOMC Meeting Documents on 2-Year Treasury Notes </center></h1>"
   ]
  },
  {
   "cell_type": "markdown",
   "id": "11989519",
   "metadata": {},
   "source": [
    "## 1. Introduction\n",
    "The motivation for our project stems from a paper (https://www.newyorkfed.org/medialibrary/media/research/epr/2013/0913rosa.pdf) written in December 2013 by Carlo Rosa during his tenure as a Senior Economist at the Federal Reserve Bank of New York. The paper investigates the real-time response of various U.S. asset prices and returns to the content contained in Federal Open Market Committee (FOMC) Meeting Minutes between January 2005 and March 2011. However, despite the FOMC Meeting Minutes being text, the paper does not make use of any tools from natural language processing. As a result, the goal of our project is to build on Rosa's work by incorporating natural language processing-based tools in order to study the effect of text-based measures of sentiment and \"distance\" between consecutive FOMC documents on 2-year Treasury notes (T-Notes) yield changes and volatility. \n",
    "<br>\n",
    "\n",
    "Instead of studying a variety of U.S. asset prices and returns, we focus our attention on 2-year T-Notes, data for which we obtain from the Federal Reserve Economic Data (FRED) database (https://fred.stlouisfed.org/series/DGS2). When we wrote our final project proposal (FPP), we were operating under the assumption that the Center for Research in Security Prices (CRSP) was the best resource for obtaining our securities data; however, as it turns out, FRED is a far superior database, for our purposes, for obtaining data related to Treasury securities, and allows us to easily obtain data at the daily level. \n",
    "<br>\n",
    "\n",
    "As detailed in our FPP, we have three separate corpora corresponding to three different FOMC document types; namely, we have one corpus for FOMC Meeting Minutes, one corpus for FOMC Tealbook A's, and one corpus for FOMC Tealbook B's. In order to account for the potential issues arrising from working with too small a sample, we opted to widen our time window to January 2000 through December 2016; in our FPP, we stated we would work with January 2011 through December 2016. This generates 136 documents in each of the three corpora, far superior to the roughly 40 documents each had we elected to start from January 2011.\n",
    "<br> \n",
    "<br>\n",
    "Our project naturally splits into two components: \n",
    "<br>\n",
    "\n",
    "**(1)** Use sentiment analysis via (i) a bag-of-words (BOW) and (ii) a Latent Dirichlet Allocation (LDA) approach coupled with the Loughran-McDonald master dictionary in order to study the effect of sentiment of the three FOMC meeting document types on 2-year T-Notes five-day historical and future yield changes and five-day historical and future yield volatility.\n",
    "<br>\n",
    "\n",
    "**(2)** Use \"distances\" between consecutive FOMC meeting documents via (i) a LDA-based vectorization and (ii) a document embedding vectorization approach in order to study the effect of \"distance\" between conseucutive documents on 2-year T-Notes absolute five-day historical and future yield changes and five-day historial and future yield volatility. \n",
    "<br>\n",
    "\n",
    "*Note: We consider absolute five-day yield changes for (2) given \"distances\" between consecutive documents will only convey magnitudes but not signs. For (1), given sentiment scores can be positive or negative, we consider non-absolute five-day yield changes.*\n",
    "\n",
    "We discuss both of these objectives in detail below."
   ]
  },
  {
   "cell_type": "markdown",
   "id": "4e43d4a5",
   "metadata": {},
   "source": [
    "## 1.1: Sentiment Analysis\n",
    "We consider two approaches to calculating sentiment scores which we describe in detail in the following two subsections. Before constructing both such scores, we apply standard text processing procedures. That is, we tokenize the documents into lists of words, convert all words to lowercase, strip whitespace characters, remove stop words, remove words with non-alphabetical characters, and stem words using the Snowball stemmer. For both of our sentiment scores, we make use of the Loughran-McDonald master dictionary which contains 2,345 negative sentiment words (10 were removed in 2020) and 347 positive sentiment words (7 were removed in 2020). We comment that stemming words is a notably important part of the text processing steps given the sentiment assigned to a word should be invariant under \"small\" perturbations of the word and we want to account for the Loughran-McDonald dictionary potentially not storing all such perturbations. Since we stem the words in our corpora, we also stem the words residing in the Loughran-McDonald dictionary."
   ]
  },
  {
   "cell_type": "markdown",
   "id": "1652f927",
   "metadata": {},
   "source": [
    "### 1.1.1: BOW Sentiment Scores\n",
    "Construction of our BOW sentiment scores is very straightforward. Enumerate the documents in each of our three corpora $\\left\\{D^i_t\\right\\}_{t\\in\\{1,\\ldots,136\\}}$, for $i\\in\\{1, 2, 3\\}$, where $i=1$ denotes the Minutes corpus, $i=2$ denotes the Tealbook A corpus, $i=3$ denotes the Tealbook B corpus, and $t$ is used to order time of publication. Here $D^i_t$ denotes document $t$ in corpus $i$ after the text processing steps described above have been applied. Now, let $p^i_t$ and $n^i_t$ denote the number of words from document $D^i_t$ that are assigned positive and negative sentiment in the Loughran-McDonald dictionary respectively, and let $T^i_t$ denote the total number of words in $D^i_t$. With this, we define the BOW sentiment score for document $D^i_t$ as \n",
    "\n",
    "$$ \\text{sBOW}^i_t = \\frac{p^i_t - n^i_t}{T^i_t} \\,.$$\n",
    "\n",
    "Our goal is to study how the time series $\\text{sBOW}^i_1, \\ldots, \\text{sBOW}^i_{136}$ varies with our sample of 2-year T-Notes for each $i\\in\\{1,2,3\\}$. Before explaining this in detail in section 1.3.1, we first develop our second approach for calculating the sentiment scores of the FOMC meeting documents."
   ]
  },
  {
   "cell_type": "markdown",
   "id": "8133df30",
   "metadata": {},
   "source": [
    "### 1.1.2: LDA Sentiment Scores\n",
    "Building off the approach described in the previous section, we now develop a natural alternative for calculating sentiment scores via incorporating LDA. For each of our corpora consider running LDA with $K$-many topics where $K$ is a positive integer (in the below code we take $K=12$). Doing so produces a document-topic distribution $P^i_t$ for each document $t$ in corpus $i$; that is, each $P^i_t$ is a discrete probability distribution over the finite set of topics $\\{\\mathcal{T}^i_1, \\ldots, \\mathcal{T}^i_K\\}$, i.e. $P^i_t(\\mathcal{T}^i_k)$ is the probability document $t$ in corpus $i$ is \"about\" topic $\\mathcal{T}^i_k$ for $t\\in\\{1,\\ldots, 136\\}$. \n",
    "\n",
    "Now, for each topic $\\mathcal{T}^i_k\\in\\{\\mathcal{T}^i_1, \\ldots, \\mathcal{T}^i_K\\}$ we calculate a variant of the BOW sentiment score as follows. Let $D^{i,\\mathcal{T}_k}_t$ denote the collection of words for topic $\\mathcal{T}^i_k$ that are assigned positive probability, and let $p^{i,\\mathcal{T}_k}_t$ and $n^{i,\\mathcal{T}_k}_t$ denote the sum of the word probabilities — that is, the probabilities ascribed by the topic-word distribution for topic $\\mathcal{T}^i_k$ — for those words in $D^{i,\\mathcal{T}_k}_t$ with positive and negative sentiment respectively. That is, we collect all words in $D^{i,\\mathcal{T}_k}_t$ that are assigned positive sentiment in the Loughran-McDonald dictionary, take the sum of their corresponding probabilities of occurence in topic $\\mathcal{T}^i_k$, and call this sum $p^{i,\\mathcal{T}_k}_t$. We form $n^{i,\\mathcal{T}_k}_t$ analogously for negative sentiment words. With this, we define the LDA sentiment score for document $D^i_t$ as \n",
    "\n",
    "$$ \\text{sLDA}^i_t = \\sum_{k=1}^{K}P^i_t(\\mathcal{T}^i_k) \\left(p^{i,\\mathcal{T}_k}_t - n^{i,\\mathcal{T}_k}_t\\right) .$$\n",
    "\n",
    "Note that there is no need to divide $p^{i,\\mathcal{T}_k}_t - n^{i,\\mathcal{T}_k}_t$ by the total number of words in $D^{i,\\mathcal{T}_k}_t$ as $p^{i,\\mathcal{T}_k}_t$ and $n^{i,\\mathcal{T}_k}_t$ are sums of probabilities, not word frequencies. Like with the BOW sentiment scores, our goal is to study how the time series $\\text{sLDA}^i_1, \\ldots, \\text{sLDA}^i_{136}$ varies with our sample of 2-year T-Notes for each $i\\in\\{1,2,3\\}$. Before describing the regressions we will run, we first discuss the second component of our project which seeks to build \"distance\" measures between consecutive FOMC meeting documents."
   ]
  },
  {
   "cell_type": "markdown",
   "id": "55fdbaaf",
   "metadata": {},
   "source": [
    "## 1.2: Distance Measures\n",
    "We think about the \"distance\" between consecutive FOMC meeting documents as serving as a proxy for shifts in macroeconomic and financial markets conditions that take place between FOMC meetings. That is, a small \"distance\" between consecutive documents indicates that Fed policy makers are \"staying the course\" and that there have been few macroeconomic and financial markets environment changes, whereas a large \"distance\" between consecutive documents captures that their has been a shift in Fed policy discussion due to changing macroeconomic and financial markets conditions since the previous meeting. We propose three methods for calculating the \"distance\" between consecutive FOMC meeting documents which we discuss in detail below."
   ]
  },
  {
   "cell_type": "markdown",
   "id": "6b4d4ebd",
   "metadata": {},
   "source": [
    "### 1.2.1: Kullback-Leibler Divergence\n",
    "\n",
    "Enumerate the documents in each of our three corpora $\\left\\{D^i_t\\right\\}_{t\\in\\{1,\\ldots,136\\}}$, for $i\\in\\{1, 2, 3\\}$, where $i=1$ denotes the Minutes corpus, $i=2$ denotes the Tealbook A corpus, $i=3$ denotes the Tealbook B corpus, and $t$ is used to order time of publication. Two documents in the same corpus $D^i_t$ and $D^i_s$ are said to be consecutive if $t=s-1$ or $t=s+1$. \n",
    "\n",
    "Now, for each of our corpora consider running LDA with $K$-many topics where $K$ is a positive integer (in the below code we take $K=12$). We adopt the same notation as used in section 1.1.2 above.\n",
    "\n",
    "The Kullback-Leibler (KL) divergence of $P^i_{t+1}$ from $P^i_t$ is defined as \n",
    "\n",
    "$$D_{\\text{KL}}(P^i_{t+1}\\,\\lVert \\,P^i_t) = \\sum_{k=1}^{K} P^i_{t+1}(\\mathcal{T}^i_k) \\ln\\left(\\frac{P^i_{t+1}(\\mathcal{T}^i_k)}{P^i_t(\\mathcal{T}^i_k)}\\right)\\quad.$$ \n",
    "\n",
    "For notational simplicity we put $\\text{KL}^i_{t+1} = D_{\\text{KL}}(P^i_{t+1}\\,\\lVert \\,P^i_t)$. A mathematical requirement for the KL divergence to be well-defined is that if $P^i_t(\\mathcal{T}^i_k)=0$ then $P^i_{t+1}(\\mathcal{T}^i_k)=0$, i.e. $P^i_{t+1}$ is absolutely continuous with respect to $P^i_t$. Given we will use the Gensim library to run our LDAs, topic probabilities will be set to zero if they are below a small threshold; thus, we very well may encounter the case that $P^i_t(\\mathcal{T}_k)=0$ but $P^i_{t+1}(\\mathcal{T}_k)>0$. To handle this, we propose modifying the defintion of the KL divergence to\n",
    "\n",
    "$$\\text{KL}^i_{t+1} = \\sum_{k=1}^{K} P^i_{t+1}(\\mathcal{T}^i_k) \\biggl|\\, \\ln\\left(\\frac{P^i_{t+1}(\\mathcal{T}^i_k) + 10^{-5}}{P^i_t(\\mathcal{T}^i_k) + 10^{-5}}\\right) \\,\\biggr| \\quad,$$\n",
    "\n",
    "where we take the absolute value of the log to ensure that the modified divergence is nonnegative. There are of course more robust ways of handling the issue of lacking absolute continuity, and the negativity of divergence it can cause, however, given the scope of this project, we only consider the methodology given above. To state one alternative, we could, for each document, multiply all of the nonzero topic probabilities by 0.95 and then allocate the leftover mass of 0.05 uniformly to those topics which are assigned zero probability. \n",
    "\n",
    "We use $\\text{KL}^i_{t+1}$ to gauge how \"far away\" the document-topic distribution of $D^i_{t+1}$ is from the document-topic distribution of $D^i_t$. As done with our sentiment scores discussed in 1.1, our ultimate goal is to study how the time series $\\text{KL}^i_2, \\ldots, \\text{KL}^i_{136}$ varies with our sample of 2-year T-Notes for each $i\\in\\{1, 2, 3\\}$. Before expanding on exactly how we plan to accomplish this in section 1.3.2 below, we first discuss our other two constructions for measuring the \"distance\" between consecutive FOMC documents."
   ]
  },
  {
   "cell_type": "markdown",
   "id": "a981f658",
   "metadata": {},
   "source": [
    "### 1.2.2: Sentiment-adjusted Kullback-Leibler Divergence\n",
    "Recall from 1.2.1 that the (prior to adjustment) KL divergence from $P^i_t$ to $P^i_{t+1}$ is given by\n",
    "\n",
    "$$\\text{KL}^i_{t+1} = \\sum_{k=1}^{K} P^i_{t+1}(\\mathcal{T}^i_k) \\ln\\left(\\frac{P^i_{t+1}(\\mathcal{T}^i_k)}{P^i_t(\\mathcal{T}^i_k)}\\right)$$\n",
    "\n",
    "where $i$ indexes our corpora — $i=1$ for the Minutes, $i=2$ for the Tealbook A's, and $i=3$ for the Tealbook B's — and $t$ indexes documents. See that $\\text{KL}^i_{t+1}$ is simply the expected value of the random variable $\\ln\\left(\\frac{P^i_{t+1}}{P^i_t}\\right)$ with respect to the probability distribution $P^i_{t+1}$. A discrete distribution can naturally be regarded as a random variable via $P(\\omega) := P(X(\\omega)) = \\mathbb{P}(X = X(\\omega))$, where $X$ is a discrete random variable with mass function $P$; we include this soley to avoid confusion on part of the reader. That is, we can write\n",
    "\n",
    "$$\\text{KL}^i_{t+1} = \\mathbb{E}^{P^i_{t+1}}\\left[\\ln\\left(\\frac{P^i_{t+1}}{P^i_t}\\right)\\right],$$\n",
    "\n",
    "which gives us a natural path to generalizing how we measure the \"distance\" between consecutive FOMC documents. We write $S^i$ for the random variable defined on the set of topics $\\{\\mathcal{T}^i_1,\\ldots, \\mathcal{T}^i_K\\}$ such that $S^i(\\mathcal{T}^i_k)$ represents the sentiment score for topic $\\mathcal{T}^i_k$ as defined in 1.1.2, and we let $\\text{med}(S^i)$ denote the median of $\\{S^i(\\mathcal{T}^i_1), \\ldots, S^i(\\mathcal{T}^i_K)\\}$. With this, we define the sentiment-adjusted KL divergence from $P^i_t$ to $P^i_{t+1}$ as\n",
    "\n",
    "$$\\text{SKL}^i_{t+1} = \\mathbb{E}^{P^i_{t+1}}\\left[\\biggl|\\frac{S^i}{\\text{med}(S^i)}\\biggr|\\,\\ln\\left(\\frac{P^i_{t+1}}{P^i_t}\\right)\\right] = \\sum_{k=1}^{K} P^i_{t+1}(\\mathcal{T}^i_k)\\,\\biggl|\\frac{S^i(\\mathcal{T}^i_k)}{\\text{med}(S^i)}\\biggr|\\, \\ln\\left(\\frac{P^i_{t+1}(\\mathcal{T}^i_k)}{P^i_t(\\mathcal{T}^i_k)}\\right)\\quad ,$$\n",
    "\n",
    "where for the same reasons as described in 1.2.2 we make the modification to ensure the absolute continuity condition and nonnegativity of the divergence, i.e.\n",
    "\n",
    "$$\\text{SKL}^i_{t+1} = \\sum_{k=1}^{K} P^i_{t+1}(\\mathcal{T}^i_k)\\,\\biggl|\\frac{S^i(\\mathcal{T}^i_k)}{{\\text{med}(S^i)}} \\ln\\left(\\frac{P^i_{t+1}(\\mathcal{T}^i_k) + 10^{-5}}{P^i_t(\\mathcal{T}^i_k) + 10^{-5}}\\right)\\biggr | \\quad .$$\n",
    "\n",
    "Our reasoning for considering the sentiment-adjusted KL divergence is that financial markets likely react more excessively to those topics with relatively high or low sentiment than those with relatively neutral sentiment. Thus, for neutral-sentiment topics — that is, topics where $\\bigl|S^i(\\mathcal{T}^i_k)\\bigr|$ is below the absolute value of the median — we downweight the $P^i_{t+1}(\\mathcal{T}^i_k)\\ln\\left(\\frac{P^i_{t+1}(\\mathcal{T}^i_k) + 10^{-5}}{P^i_t(\\mathcal{T}^i_k) + 10^{-5}}\\right)$ component of the divergence. Thus, even when $P^i_{t+1}(\\mathcal{T}^i_k)$ is significantly different from $P^i_t(\\mathcal{T}^i_k)$, we do not allow this difference to meaningfully affect the sentiment-adjusted KL divergence given topic $\\mathcal{T}^i_k$ is of neutral sentiment and consequently should not indicate a substantial difference from document $D^i_t$ to document $D^i_{t+1}$ from the point of view of market participants. \n",
    "\n",
    "Conversely, for high and low sentiment topics — that is, topics where $\\bigl|S^i(\\mathcal{T}^i_k)\\bigr|$ is larger than the absolute value of the median — we scale up the $P^i_{t+1}(\\mathcal{T}^i_k)\\ln\\left(\\frac{P^i_{t+1}(\\mathcal{T}^i_k) + 10^{-5}}{P^i_t(\\mathcal{T}^i_k) + 10^{-5}}\\right)$ component of the divergence. When the difference between $P^i_t(\\mathcal{T}^i_k)$ and $P^i_{t+1}(\\mathcal{T}^i_k)$ is small, the sentiment-adjustment has little effect; however, in the case that the difference between the topic $\\mathcal{T}^i_k$ probabilities for consecutive documents is substantial, the sentiment-adjustment will magnify the divergence from document $D^i_t$ to document $D^i_{t+1}$. This captures the fact that if the probability of a high or low sentiment topic changes significantly between consecutive documents, there has likely been a seismic change in FOMC policy thus producing a large swing in 2-year T-Notes yield levels.\n",
    "\n",
    "We comment that we of course could very easily change the median to the mean, 85th percentile, etc. for the cutoff at which we say a topic is of neutral or positive/negative sentiment. We opted for the median given the nature of the distribution for the topic-wise sentiment scores. Indeed, after taking absolute values, the distribution was positively skewed with clustering at and just in excess of the median; as a result, even the 55th percentile excluded only 2-3 topics and in turn we did not want the sentiment-adjusted KL divergence to be primarily driven by so few topics.\n",
    "\n",
    "As mentioned at the end of the previous section, our ultimate goal is to study how the time series $\\text{SKL}^i_2, \\ldots, \\text{SKL}^i_{136}$ varies with our sample of 2-year T-Notes for each $i\\in\\{1,2,3\\}$. This will be discussed further in section 1.3.2 below."
   ]
  },
  {
   "cell_type": "markdown",
   "id": "c4fd73d7",
   "metadata": {},
   "source": [
    "### 1.2.3: Document Embeddings with doc2vec\n",
    "We propose one final approach for calculating the \"distance\" between consecutive FOMC meeting documents. Throughout our course, the quintessential approach we took for vectorizing documents was to utilize a BOW approach. While the BOW encoding of a document is attractive for the ease with which it can be implemented, there are two major weaknesses: (i) the sequential nature of the document is lost, that is, the ordering of words is forgotten and (ii) semantics of the words are not accounted for. While a bag of n-grams approach, which was briefly discussed in our course, does partially remedy (i) by taking into account the context of words, it suffers from clear dimensionality issues and ultimately is unable to properly capture semantics. Thus, to overcome these pitfalls, Quoc Le and Tomas Mikolov developed the algorithm Paragraph Vector in their 2014 paper *Distributed Representations of Sentences and Documents* (https://arxiv.org/pdf/1405.4053.pdf) published in PMLR. Their algorithm has come to be popularly known as doc2vec, the name stemming from the fact that Paragraph Vector was inspired by the development of word2vec. Like word2vec does with words, Paragraph Vector represents documents using dense vectors, which, as shown in the aforementioned paper, leads to state-of-the-art performance on a variety of NLP related tasks.\n",
    "\n",
    "As with word2vec, where one can train the word embeddings based on predicting words from an input context (CBOW) or predicting context from an input word (Skip-gram), there are two modelling frameworks for implementing document embeddings with doc2vec:\n",
    "\n",
    "**(1) Distributed Memory (PV-DM)**: PV-DM is analogous to CBOW in the sense that it takes as input a paragraph (document) ID and a set of randomly sampled context words from the paragraph (document) and correspondingly predicts the target word. That is, DM predicts words from an input context which consists of an ID for the paragraph (document) and a window of words sampled from the paragraph (document). \n",
    "\n",
    "**(2) Distributed Bag of Words (DBOW)**: DBOW is analogous to Skip-gram in the sense that the context window is ignored as an input, and instead the model infers context conditioned on the paragraph (document) ID and a target word as input. That is, DBOW predicts the context of a target word from an input which consists of an ID for the paragraph (document) and the given target word.\n",
    "\n",
    "We have made the decision to not provide detailed explanations of how these two algorithms are implemented, and instead refer the readers to the aforementioned paper for a more complete treatment. \n",
    "\n",
    "We will compute our document embeddings for each document in our three corpora (implementation will be done separately for the Minutes, Tealbook A's, and Tealbook B's) using the Gensim library's Doc2Vec class. Gensim allows us to specify whether we wish to build our embeddings using either PV-DM or DBOW, and indeed we will consider both such implementations for comparison purposes. For document $D^i_t$ let $v^{\\text{PV-DM}}_{i,t}\\in\\mathbb{R}^m$ and $v^{\\text{DBOW}}_{i,t}\\in\\mathbb{R}^m$ denote its PV-DM and DBOW document embedding vectors respectively, where $m$ is a positive integer which denotes the selected dimension of the embedding space. We will adopt the standard convention of setting $m$ equal to 300. \n",
    "\n",
    "Our ultimate goal is to use these embedding vectors to create a notion of \"distance\" between consecutive FOMC meeting documents in each of our three corpora. In this case, we can drop the quotations from distance as we will simply utilize the Euclidean distances between the document embedding vectors. That is, we set \n",
    "\n",
    "$$\\text{PV-DM}^i_{t+1} = \\lVert v^{\\text{PV-DM}}_{i,t+1} - v^{\\text{PV-DM}}_{i,t} \\rVert_2$$\n",
    "\n",
    "and\n",
    "\n",
    "$$\\text{DBOW}^i_{t+1} = \\lVert v^{\\text{DBOW}}_{i,t+1} - v^{\\text{DBOW}}_{i,t} \\rVert_2 $$\n",
    "\n",
    "where $\\Vert u - w \\rVert_2 = \\sqrt{\\sum_{j=1}^{300}(u_j - w_j)^2} \\;$ for $u=(u_1,\\ldots,u_{300}), w=(w_1,\\ldots,w_{300})\\in\\mathbb{R}^{300}$."
   ]
  },
  {
   "cell_type": "markdown",
   "id": "1b3ef4a6",
   "metadata": {},
   "source": [
    "## 1.3: Regression Analysis\n",
    "Now that we have detailed the constructions of our six text-based variables of interests, we are ready to discuss the regressions we plan to run using these variables. We run two types of regressions, one set using our sentiment scores as independent variables and another using our distance measures as independent variables, and we consider four different dependent variables for each class. To obtain the data necessary to construct our dependent variables, we download 2-year T-Notes yield data from https://fred.stlouisfed.org/series/DGS2. Let $\\{y_\\tau\\}$ denote the corresponding time series of daily yields, with $\\tau$ ranging over all trading days between January 3rd, 2000 and December 30th, 2016 for which FRED has data available (only roughly 30 days have missing data). Using these data we build the following six time series:\n",
    "\n",
    "**(1) Five-day historical volatility**: $$\\sigma^{\\text{hist}}_\\tau = \\frac{1}{2}\\sqrt{\\sum_{n=0}^{4}\\left(y_{\\tau-n} - \\left(\\frac{1}{5}\\sum_{m=0}^{4}y_{\\tau-m}\\right)\\right)^2}$$\n",
    "\n",
    "**(2) Five-day future volatility**: $$\\sigma^{\\text{fut}}_\\tau = \\frac{1}{2}\\sqrt{\\sum_{n=0}^{4}\\left(y_{\\tau+n} - \\left(\\frac{1}{5}\\sum_{m=0}^{4}y_{\\tau+m}\\right)\\right)^2}$$\n",
    "\n",
    "**(3) Five-day historical yield change**: $$\\text{YC}^{\\text{hist}}_\\tau = y_\\tau - y_{\\tau-4}$$\n",
    "\n",
    "**(4) Five-day future yield change**: $$\\text{YC}^{\\text{fut}}_\\tau = y_{\\tau+4} - y_\\tau$$\n",
    "\n",
    "**(5) Five-day historical absolute yield change**: $$\\text{AYC}^{\\text{hist}}_\\tau = \\bigl|y_\\tau - y_{\\tau-4}\\bigr| $$\n",
    "\n",
    "**(6) Five-day future absolute yield change**: $$\\text{AYC}^{\\text{fut}}_\\tau = \\bigl|y_{\\tau+4} - y_\\tau\\bigr| $$\n",
    "\n",
    "We will use **(1)** and **(2)** for both the regressions involving our sentiment scores and distance measures, however, we will use **(3)** and **(4)** only for our sentiment score regressions and **(5)** and **(6)** only for our distance measure regressions. We refer the reader to the note at the end of Section 1, before the start of subsection 1.1, as to why we do this.\n",
    "\n",
    "*Note: We use $\\tau$ instead of $t$ as we did in the previous sections as $t$ belonged to $\\{1, \\ldots, 136\\}$ and was simply used as an ordering for the three FOMC document types given the Minutes, Tealbook A's, and Tealbook B's are published on different dates whereas $\\tau$ indexes actual dates.* "
   ]
  },
  {
   "cell_type": "markdown",
   "id": "ad886c7f",
   "metadata": {},
   "source": [
    "### 1.3.1: Regression Analysis with Sentiment Scores\n",
    "Recall that we denote our two sentiment scores by $\\text{sBOW}^i_t$ and $\\text{sLDA}^i_t$ where $i=1$ corresponds to the Minutes corpus, $i=2$ the Tealbook A's corpus, and $i=3$ the Tealbook B's corpus. Now, given our dataframe of T-Notes data will contain far more dates than our three dataframes of sentiment scores, we will left merge the Excel of T-Notes data on each of our three (Minutes, Tealbook A, and Tealbook B) sentiment dataframes. The row indices of our sentiment dataframes will correspond to the dates of publication, and thus, the left merge will ensure we have the related T-Notes data only on the dates of publication for each of the three FOMC meeting document types. We thus will use $t_i$ as our time indexing variable — the $i$ encodes the dependence on the corpus type since the Minutes, Tealbook A's, and Tealbook B's are published on slighty different dates. We will estimate the following regression models for each $i\\in\\{1,2,3\\}$:\n",
    "\n",
    "**(1)**: $\\quad \\sigma^{\\text{hist}}_{t_i} = \\alpha_1 + \\beta_1 \\text{sBOW}^i_{t_i} + \\varepsilon^1_{t_i} \\quad\\quad\\quad\\quad\\quad\\quad\\quad\\quad\\quad\\quad\\quad\\quad$ **(1')**: $\\quad \\sigma^{\\text{hist}}_{t_i} = \\alpha_{1'} + \\beta_{1'} \\text{sLDA}^i_{t_i} + \\varepsilon^{1'}_{t_i}$\n",
    "\n",
    "**(2)**: $\\quad \\sigma^{\\text{fut}}_{t_i} = \\alpha_2 + \\beta_2 \\text{sBOW}^i_{t_i} + \\varepsilon^2_{t_i} \\quad\\quad\\quad\\quad\\quad\\quad\\quad\\quad\\quad\\quad\\quad\\quad \\;$ **(2')**: $\\quad \\sigma^{\\text{fut}}_{t_i} = \\alpha_{2'} + \\beta_{2'} \\text{sLDA}^i_{t_i} + \\varepsilon^{2'}_{t_i}$\n",
    "\n",
    "**(3)**: $\\quad \\text{YC}^{\\text{hist}}_{t_i} = \\alpha_3 + \\beta_3 \\text{sBOW}^i_{t_i} + \\varepsilon^3_{t_i} \\quad\\quad\\quad\\quad\\quad\\quad\\quad\\quad\\quad\\quad\\quad \\;\\,$ **(3')**: $\\quad \\text{YC}^{\\text{hist}}_{t_i} = \\alpha_{3'} + \\beta_{3'} \\text{sLDA}^i_{t_i} + \\varepsilon^{3'}_{t_i}$\n",
    "\n",
    "**(4)**: $\\quad \\text{YC}^{\\text{fut}}_{t_i} = \\alpha_4 + \\beta_4 \\text{sBOW}^i_{t_i} + \\varepsilon^4_{t_i} \\quad\\quad\\quad\\quad\\quad\\quad\\quad\\quad\\quad\\quad\\quad\\;\\;\\,$ **(4')**: $\\quad \\text{YC}^{\\text{fut}}_{t_i} = \\alpha_{4'} + \\beta_{4'} \\text{sLDA}^i_{t_i} + \\varepsilon^{4'}_{t_i}$"
   ]
  },
  {
   "cell_type": "markdown",
   "id": "55b69968",
   "metadata": {},
   "source": [
    "### 1.3.2: Regression Analysis with Distance Measures\n",
    "Recall that we denote our four distance measures by $\\text{KL}^i_t$,$\\,$ $\\text{SKL}^i_t$,$\\,$ $\\text{PV-DM}^i_t$,$\\,$ and$\\,$ $\\text{DBOW}^i_t,\\,$ where $t\\in\\{2,\\ldots,136\\}$. As stated in 1.3.1, given our dataframe of T-Notes data will contain far more dates than our three dataframes of distance measures, we will left merge the Excel of T-Notes data with each of our three (Minutes, Tealbook A, and Tealbook B) distance measures dataframes. As with our sentiment dataframes, the row indices of our distance measures dataframes will correspond to the dates of publication, and thus, the left merge will ensure we have the related T-Notes data on the dates of publication. As with the sentiment scores regressions, we use $t_i$ as our time indexing variable. We will estimate the following regression models for each $i\\in\\{1,2,3\\}$:\n",
    "\n",
    "<font size=\"2\">**(1)**: $\\sigma^{\\text{hist}}_{t_i} = \\gamma_1 + \\phi_1 \\text{KL}^i_{t_i} + \\nu^1_{t_i} \\quad\\,\\,\\,$ **(1')**: $ \\sigma^{\\text{hist}}_{t_i} = \\gamma_{1'} + \\phi_{1'} \\text{SKL}^i_{t_i} + \\nu^{1'}_{t_i} \\quad\\,\\,\\,$ **(1'')**: $\\sigma^{\\text{hist}}_{t_i} = \\gamma_{1''} + \\phi_{1''} \\text{PV-DM}^i_{t_i} + \\nu^{1''}_{t_i} \\quad\\,\\,\\,\\,$ **(1''')**: $ \\sigma^{\\text{hist}}_{t_i} = \\gamma_{1'''} + \\phi_{1'''} \\text{DBOW}^i_{t_i} + \\nu^{1'''}_{t_i}$ \n",
    "<br><br>\n",
    "\n",
    "<font size=\"2\">**(2)**: $\\sigma^{\\text{fut}}_{t_i} = \\gamma_2 + \\phi_2 \\text{KL}^i_{t_i} + \\nu^2_{t_i} \\quad\\;\\,\\,\\,$ **(2')**: $ \\sigma^{\\text{fut}}_{t_i} = \\gamma_{2'} + \\phi_{1'} \\text{SKL}^i_{t_i} + \\nu^{2'}_{t_i} \\quad\\;\\,\\,$ **(2'')**: $\\sigma^{\\text{fut}}_{t_i} = \\gamma_{2''} + \\phi_{1''} \\text{PV-DM}^i_{t_i} + \\nu^{2''}_{t_i} \\quad\\;\\,\\,\\,$ **(2''')**: $ \\sigma^{\\text{fut}}_{t_i} = \\gamma_{2'''} + \\phi_{1'''} \\text{DBOW}^i_{t_i} + \\nu^{2'''}_{t_i}$ \n",
    "<br><br>\n",
    "\n",
    "<font size=\"2\">**(3)**: $\\text{AYC}^{\\text{hist}}_{t_i} = \\gamma_3 + \\phi_3 \\text{KL}^i_{t_i} + \\nu^3_{t_i} \\;$ **(3')**: $ \\text{AYC}^{\\text{hist}}_{t_i} = \\gamma_{3'} + \\phi_{3'} \\text{SKL}^i_{t_i} + \\nu^{3'}_{t_i} \\;$ **(3'')**: $\\text{AYC}^{\\text{hist}}_{t_i} = \\gamma_{3''} + \\phi_{3''} \\text{PV-DM}^i_{t_i} + \\nu^{3''}_{t_i} \\;$ **(3''')**: $ \\text{AYC}^{\\text{hist}}_{t_i} = \\gamma_{3'''} + \\phi_{3'''} \\text{DBOW}^i_{t_i} + \\nu^{3'''}_{t_i}$ \n",
    "<br><br>\n",
    "\n",
    "<font size=\"2\">**(4)**: $\\text{AYC}^{\\text{fut}}_{t_i} = \\gamma_4 + \\phi_4 \\text{KL}^i_{t_i} + \\nu^4_{t_i} \\;\\,$ **(4')**: $ \\text{AYC}^{\\text{fut}}_{t_i} = \\gamma_{4'} + \\phi_{4'} \\text{SKL}^i_{t_i} + \\nu^{4'}_{t_i} \\;\\,$ **(4'')**: $\\text{AYC}^{\\text{fut}}_{t_i} = \\gamma_{4''} + \\phi_{4''} \\text{PV-DM}^i_{t_i} + \\nu^{4''}_{t_i} \\;\\,$ **(4''')**: $ \\text{AYC}^{\\text{fut}}_{t_i} = \\gamma_{4'''} + \\phi_{4'''} \\text{DBOW}^i_{t_i} + \\nu^{4'''}_{t_i}$"
   ]
  },
  {
   "cell_type": "markdown",
   "id": "460e0650",
   "metadata": {},
   "source": [
    "## 2. Code"
   ]
  },
  {
   "cell_type": "code",
   "execution_count": 1,
   "id": "de708087",
   "metadata": {},
   "outputs": [],
   "source": [
    "import os\n",
    "import csv\n",
    "import pdfplumber\n",
    "\n",
    "import string\n",
    "from bs4 import BeautifulSoup\n",
    "\n",
    "import itertools\n",
    "import collections\n",
    "from collections import namedtuple\n",
    "\n",
    "from datetime import datetime\n",
    "\n",
    "import numpy as np\n",
    "import pandas as pd\n",
    "import matplotlib.pyplot as plt\n",
    "\n",
    "import nltk\n",
    "from nltk.stem.snowball import SnowballStemmer\n",
    "\n",
    "import gensim\n",
    "from gensim.models import Doc2Vec\n",
    "import statsmodels.api as sm\n",
    "\n",
    "\n",
    "stopwords_list = nltk.corpus.stopwords.words('english')\n",
    "snow_stemmer = SnowballStemmer(language='english')\n",
    "\n",
    "pd.set_option('display.max_rows', None)\n",
    "pd.set_option('display.max_columns', None)"
   ]
  },
  {
   "cell_type": "markdown",
   "id": "2678d2d1",
   "metadata": {},
   "source": [
    "## Preprocessing of textual data  "
   ]
  },
  {
   "cell_type": "code",
   "execution_count": 2,
   "id": "50516dff",
   "metadata": {},
   "outputs": [],
   "source": [
    "# Function to read pdf collections using pdfplumber\n",
    "\n",
    "# Parameter: Path to the pdf file\n",
    "# Return   : Text content of the file \n",
    "\n",
    "def get_pdf_text(pdf_fn):\n",
    "    pdf = pdfplumber.open(pdf_fn)\n",
    "    complete_text = \"\"\n",
    "    for i in range(len(pdf.pages)):\n",
    "        page = pdf.pages[i]\n",
    "        try:\n",
    "            complete_text += page.extract_text()\n",
    "        except:\n",
    "            continue\n",
    "    return complete_text"
   ]
  },
  {
   "cell_type": "code",
   "execution_count": 3,
   "id": "3dc8c3db",
   "metadata": {},
   "outputs": [],
   "source": [
    "# Function to extract text from each file in a folder of files. \n",
    "\n",
    "# Parameter : Path to the folder of files to be read\n",
    "# Return    : (1) A list of file names in the folder \n",
    "#             (2) A dictionary containing filename as keys and file content as value\n",
    "\n",
    "def text_extractor(path):\n",
    "    count = 0\n",
    "    \n",
    "    text_dict = {}\n",
    "    filename = []\n",
    "    \n",
    "    for file_name in os.listdir(path):\n",
    "        \n",
    "        # Reading all the files in the specified location using the get_pdf_text function\n",
    "        text = get_pdf_text(os.path.join(path, file_name))\n",
    "        sentences = nltk.sent_tokenize(text)\n",
    "\n",
    "        #Removing new line characters\n",
    "        sentences = [sentence.replace(\"\\n\",\" \") for sentence in sentences ]\n",
    "        filename.append(file_name)\n",
    "        text_dict[file_name] = (' '.join(sentences)).lower()\n",
    "    \n",
    "    return text_dict, filename"
   ]
  },
  {
   "cell_type": "code",
   "execution_count": 4,
   "id": "fffa8d80",
   "metadata": {},
   "outputs": [],
   "source": [
    "# Function to preprocess text data read from the pdfs. It tokenizes the text and removes stopwords, punctuations and \n",
    "# words with non-aplhabetical characters.\n",
    "\n",
    "# Parameter : Dictionary returned from text_extractor function\n",
    "# Return    : A dictionary containg filename as keys and  list of processed words from the documents as values.  \n",
    "\n",
    "def text_PreProcessor(art_dict):\n",
    "    \n",
    "    translator=str.maketrans('','',string.punctuation + \"’–‘\")\n",
    "    return_dict = {}\n",
    "    for file_name, file_text in art_dict.items():\n",
    "        \n",
    "        sentences = nltk.sent_tokenize(file_text)\n",
    "        tokenized_article = []\n",
    "        for sentence in sentences:\n",
    "\n",
    "            # Removing stopwords, punctuations and words with non-alphabetical characters using .split(\" \") method\n",
    "            # The remaining words are rejoined with a space to be processed by nltk.word_tokenize\n",
    "            split_words = sentence.split(\" \")\n",
    "            split_words = [word.translate(translator).lower() for word in split_words if len(word.translate(translator))>0]\n",
    "            split_words = [word for word in split_words if word not in stopwords_list and word.isalpha()]\n",
    "            joined_sent = (\" \").join(split_words)\n",
    "\n",
    "            # Removing stopwords, single character tokens using nltk tokenize:\n",
    "            sent_tok = nltk.word_tokenize(joined_sent)\n",
    "            sent_tok = [word.lower() for word in sent_tok if word.lower() not in stopwords_list and len(word) > 1 \n",
    "                        and word.isalpha()]\n",
    "\n",
    "            # Create a list of all tokenized words across all sentences:\n",
    "            for word in sent_tok:\n",
    "                # A final punctuation removel cleaning step is further applied to remove any punctuations missed by \n",
    "                # tokenization\n",
    "                word = word.lower()\n",
    "                word = word.translate(translator)\n",
    "                tokenized_article.append(word)\n",
    "        \n",
    "        # Saving the list of words generated by every file in a dictionary format \n",
    "        return_dict[file_name] = tokenized_article\n",
    "        \n",
    "    return return_dict"
   ]
  },
  {
   "cell_type": "code",
   "execution_count": 5,
   "id": "822ec715",
   "metadata": {},
   "outputs": [],
   "source": [
    "# Function to stem a list of words using snowball stemmer\n",
    "\n",
    "# Parameter : Dictionary returned from text_preprocessor function\n",
    "# Return    : A dictionary with filename as keys and stemmed, processed words as values\n",
    "\n",
    "def stemmer(dict_of_texts):\n",
    "    \n",
    "    stemmed_text = {}\n",
    "    for key, value in dict_of_texts.items():\n",
    "        list_of_words = value\n",
    "        stemmed_words = [snow_stemmer.stem(el) for el in list_of_words] # Stemming each word using snowbal stemmer\n",
    "        \n",
    "        stemmed_text[key] = stemmed_words\n",
    "    \n",
    "    return stemmed_text"
   ]
  },
  {
   "cell_type": "code",
   "execution_count": 6,
   "id": "20317d0c",
   "metadata": {},
   "outputs": [],
   "source": [
    "# Processing text from the minutes folder using above defined functions\n",
    "\n",
    "minutes = {}\n",
    "minutes_filename = []\n",
    "\n",
    "# Path to the Minutes folder\n",
    "collection = \"/user/sj3119/Desktop/Homeworks/NLP/Project/Final Project/Minutes\"\n",
    "\n",
    "# Extracting text from files in the minutes folder using the text_extractor function\n",
    "minutes, minutes_filename = text_extractor(collection)\n",
    "\n",
    "# Preprocessing and stemming the extracted text using the text_Preprocessor and stemmer functions \n",
    "minutes_preprocessed = text_PreProcessor(minutes)\n",
    "minutes_processed = stemmer(minutes_preprocessed)"
   ]
  },
  {
   "cell_type": "code",
   "execution_count": 7,
   "id": "839f7543",
   "metadata": {},
   "outputs": [],
   "source": [
    "# Processing text from the TealbookA folder using above defined functions\n",
    "\n",
    "TealbookA = {}\n",
    "TealbookA_filename = []\n",
    "\n",
    "# Path to the TealbookA folder\n",
    "collection = \"/user/sj3119/Desktop/Homeworks/NLP/Project/Final Project/TealbookA\"\n",
    "\n",
    "# Extracting text from files in TealbookA folder using the text_extractor function\n",
    "TealbookA, TealbookA_filename = text_extractor(collection)\n",
    "\n",
    "# Preprocessing and stemming the extracted text using the text_Preprocessor and stemmer functions\n",
    "TealbookA_preprocessed = text_PreProcessor(TealbookA)\n",
    "TealbookA_processed = stemmer(TealbookA_preprocessed)"
   ]
  },
  {
   "cell_type": "code",
   "execution_count": 8,
   "id": "eca51845",
   "metadata": {},
   "outputs": [],
   "source": [
    "# Processing text from the TealbookB folder using above defined functions\n",
    "\n",
    "TealbookB = {}\n",
    "TealbookB_filename = []\n",
    "\n",
    "# Path to the TealbookB folder\n",
    "collection = \"/user/sj3119/Desktop/Homeworks/NLP/Project/Final Project/TealbookB\"\n",
    "\n",
    "# Extracting text from all the files in the TealbookB folder using the text_extractor function\n",
    "TealbookB, TealbookB_filename = text_extractor(collection)\n",
    "\n",
    "# Preprocessing and stemming the extracted text using the text_Preprocessor and stemmer functions\n",
    "TealbookB_preprocessed = text_PreProcessor(TealbookB)\n",
    "TealbookB_processed = stemmer(TealbookB_preprocessed)"
   ]
  },
  {
   "cell_type": "markdown",
   "id": "804ee0dc",
   "metadata": {},
   "source": [
    "## Sentiment analysis of the processed textual data"
   ]
  },
  {
   "cell_type": "code",
   "execution_count": 9,
   "id": "513851f9",
   "metadata": {},
   "outputs": [
    {
     "name": "stdout",
     "output_type": "stream",
     "text": [
      "\n"
     ]
    }
   ],
   "source": [
    "# Reading the Loughran-McDonald dictionary and stemming the words in the dictionary for use in sentiment score analysis\n",
    "\n",
    "# Importing the functions needed to read the excel dictionary from sentiment_dictionary.py(file from Loughran-McDonald\n",
    "# website)\n",
    "from sentiment_dictionary import *\n",
    "\n",
    "# Name of the excel dictionary file\n",
    "md = 'Loughran-McDonald_MasterDictionary_1993-2021.csv'\n",
    "\n",
    "# Loading the dictionary using load_masterdictionary function contained in sentiment_dictionary.py\n",
    "sentiment_dict = load_masterdictionary(md)\n",
    "\n",
    "# Generating the list of positive and negative sentiment from sentiment_dict\n",
    "post_sent = list(sentiment_dict['positive'].keys())\n",
    "neg_sent = list(sentiment_dict['negative'].keys())\n",
    "\n",
    "# Stemming the words in post_sent and neg_sent which contain postive sentiment and negative sentiment words respectively\n",
    "post_sent = [snow_stemmer.stem(el.lower()) for el in post_sent]\n",
    "neg_sent = [snow_stemmer.stem(el.lower()) for el in neg_sent]"
   ]
  },
  {
   "cell_type": "markdown",
   "id": "e38a0414",
   "metadata": {},
   "source": [
    "#### 1. BOW Sentiment Scores"
   ]
  },
  {
   "cell_type": "code",
   "execution_count": 10,
   "id": "52ba18f8",
   "metadata": {},
   "outputs": [],
   "source": [
    "# Function to calculate the BOW sentiment score, for every document, using the lists of words stored in the dictionary \n",
    "# created after applying the stemmer function. The function also converts the file names to datetime and outputs a  \n",
    "# dataframe of sentiment scores with datetime as the index\n",
    "\n",
    "# Parameter : Dictionary of words generated from the stemmer function\n",
    "# Return    : A dataframe, indexed using publish-date of a document, with a column for document sentiment score \n",
    "\n",
    "def sentiment_score(dict_of_articles):\n",
    "    \n",
    "    sent_score = []\n",
    "    filename = []\n",
    "    sent_score_df = pd.DataFrame()\n",
    "    \n",
    "    for key,value in dict_of_articles.items():\n",
    "        list_of_words = value\n",
    "        \n",
    "        # Counting the number of positive sentiment words and negative sentiment words in the list of words using the \n",
    "        # Loughran McDonald word dictionary and dividing each of the 2 numbers by the total number of words\n",
    "        positive_sent = (len([el for el in list_of_words if el in post_sent])/len(list_of_words))\n",
    "        negative_sent = len([el for el in list_of_words if el in neg_sent])/len(list_of_words)\n",
    "\n",
    "        score = positive_sent - negative_sent # Calculating the sentiment score using the formula provided in writeup\n",
    "        \n",
    "        sent_score.append(score) # Storing the sentiment score in the list sent_score\n",
    "        filename.append(key) # Storing the filename of the corresponding sentiment score in the list filename\n",
    "        \n",
    "    # Converting the file names to dates\n",
    "    date_time = [datetime.strptime(el[:-4], '%m%d%Y') for el in filename]\n",
    "    \n",
    "    # Generating a dataframe with columns for sentiment scores and datetime computed from filename \n",
    "    sent_score_df['datetime'] = date_time\n",
    "    sent_score_df['sent_score'] = sent_score\n",
    "    \n",
    "    # Sorting the dataframe using the datetime column\n",
    "    sent_score_df.sort_values(by=['datetime'], inplace=True)\n",
    "    \n",
    "    # Setting the datetime as the index of the dataframe\n",
    "    sent_score_df.set_index('datetime', inplace=True)\n",
    "    \n",
    "    return sent_score_df"
   ]
  },
  {
   "cell_type": "code",
   "execution_count": 11,
   "id": "72926e47",
   "metadata": {},
   "outputs": [],
   "source": [
    "# Generating the BOW sentiment score for documents in each of the 3 repositories\n",
    "\n",
    "# Calculating the sentiment of each document in the minutes folder using the sentiment_score function\n",
    "minutes_sentiment_bow = sentiment_score(minutes_processed)\n",
    "\n",
    "# Calculating the sentiment of each document in the TealbookA folder using the sentiment_score function\n",
    "TealbookA_sentiment_bow = sentiment_score(TealbookA_processed)\n",
    "\n",
    "# Calculating the sentiment of each document in the TealbookB folder using the sentiment_score function\n",
    "TealbookB_sentiment_bow = sentiment_score(TealbookB_processed)"
   ]
  },
  {
   "cell_type": "markdown",
   "id": "ba1992df",
   "metadata": {},
   "source": [
    "#### 2. LDA Sentiment Scores"
   ]
  },
  {
   "cell_type": "markdown",
   "id": "d065b759",
   "metadata": {},
   "source": [
    "(a) Using LDA model to first generate document-wise topic-probability distribution "
   ]
  },
  {
   "cell_type": "code",
   "execution_count": 12,
   "id": "f795ea98",
   "metadata": {},
   "outputs": [],
   "source": [
    "# Function to train an LDA model on a corpus of text data\n",
    "\n",
    "# Parameter : (1) Dictionary generated by the stemmer function\n",
    "#             (2) number of topics \n",
    "# Return    : (1) A trained lda object \n",
    "#             (2) A document-wise topic-probability distribution array\n",
    "\n",
    "def training_LDA(dict_of_text, number_of_topics):\n",
    "    \n",
    "    topic_dictionary = gensim.corpora.Dictionary(dict_of_text.values())\n",
    "    corpus = [topic_dictionary.doc2bow(doc) for doc in dict_of_text.values()]\n",
    "    \n",
    "    num_topics = number_of_topics\n",
    "    passes = 100\n",
    "    iterations = 400\n",
    "    eval_every = None\n",
    "    update_every = 0\n",
    "    \n",
    "    # Training the LDA model\n",
    "    lda = gensim.models.LdaModel(\n",
    "        corpus=corpus,\n",
    "        id2word=topic_dictionary, \n",
    "        alpha='auto',\n",
    "        eta='auto',\n",
    "        iterations=iterations,\n",
    "        num_topics=num_topics,\n",
    "        passes=passes,\n",
    "        eval_every=eval_every,\n",
    "    update_every = update_every)\n",
    "    \n",
    "    # Generating the document-wise topic-probability distribution array\n",
    "    get_document_topics = [lda.get_document_topics(item) for item in corpus]\n",
    "    \n",
    "    return lda, get_document_topics"
   ]
  },
  {
   "cell_type": "code",
   "execution_count": 13,
   "id": "9acb26f4",
   "metadata": {},
   "outputs": [],
   "source": [
    "# Generating LDA models for the documents in each of the 3 folders\n",
    "\n",
    "number_of_topics = 13\n",
    "\n",
    "# Training the minutes lda model\n",
    "minutes_lda, get_doc_topics_minutes = training_LDA(minutes_processed, number_of_topics)\n",
    "\n",
    "# Training the TealbookA lda model\n",
    "TealbookA_lda, get_doc_topics_TealbookA = training_LDA(TealbookA_processed, number_of_topics)\n",
    "\n",
    "# Training the TealbookB lda model\n",
    "TealbookB_lda, get_doc_topics_TealbookB = training_LDA(TealbookB_processed, number_of_topics)"
   ]
  },
  {
   "cell_type": "code",
   "execution_count": 14,
   "id": "6d250839",
   "metadata": {},
   "outputs": [],
   "source": [
    "# Function to generate a document-topic probability distribution dataframe, with topics in columns and dates from \n",
    "# doc_name as row indices. Every cell corresponds to the probility of occurrence of the topic, in the cell column name,  \n",
    "# in the document corresponding to the row of the cell. \n",
    "\n",
    "# Parameter : (1) A list of file names\n",
    "#             (2) Document-topic probability distribution array generated by the training_LDA function\n",
    "# Return    : (1) A dataframe of document-wise topic-probability distribution\n",
    "\n",
    "def df_generator(list_filename, get_doc_topic):\n",
    "    \n",
    "    # Generating standard column names\n",
    "    column_names = ['Topic'+str(i) for i in range(number_of_topics)]\n",
    "    \n",
    "    # Initializing a dataframe\n",
    "    doc_topic_prob_df = pd.DataFrame(np.nan, columns = column_names, index = list_filename)\n",
    "    \n",
    "    # Filling the dataframe with document-topic probability distribution for each file in the list of filenames\n",
    "    for i in range(len(list_filename)):\n",
    "        doc_top_prob = get_doc_topic[i]\n",
    "\n",
    "        # Accesing the topic number and document-topic probability for each of the documents\n",
    "        for item in doc_top_prob: \n",
    "            topic_num = item[0]\n",
    "            topic_probability = item[1]\n",
    "            \n",
    "            # Assigning values to the df\n",
    "            doc_topic_prob_df['Topic'+str(topic_num)].loc[list_filename[i]] = topic_probability \n",
    "    \n",
    "    # Filling the nan values with 0 as the get_doc_topics object only return topics with non-zero probability for each \n",
    "    # document\n",
    "    doc_topic_prob_df.fillna(0, inplace=True)\n",
    "    \n",
    "    # Converting the file names to dates \n",
    "    date_time = [datetime.strptime(el[:-4], '%m%d%Y') for el in list_filename]\n",
    "    \n",
    "    # Creating a datetime column in the dataframe\n",
    "    doc_topic_prob_df['datetime'] = date_time\n",
    "    \n",
    "    # Sorting the dataframe by datetime\n",
    "    doc_topic_prob_df.sort_values(by=['datetime'], inplace=True)\n",
    "    \n",
    "    # Setting the datetime column as index\n",
    "    doc_topic_prob_df.set_index('datetime', inplace=True)\n",
    "    \n",
    "    return doc_topic_prob_df"
   ]
  },
  {
   "cell_type": "code",
   "execution_count": 15,
   "id": "efba0112",
   "metadata": {},
   "outputs": [],
   "source": [
    "# Generating document topic-distribution dataframe for the 3 repositories\n",
    "\n",
    "minutes_top_prob = df_generator(minutes_filename, get_doc_topics_minutes)\n",
    "\n",
    "TealbookA_top_prob = df_generator(TealbookA_filename, get_doc_topics_TealbookA)\n",
    "\n",
    "TealbookB_top_prob = df_generator(TealbookB_filename, get_doc_topics_TealbookB)"
   ]
  },
  {
   "cell_type": "markdown",
   "id": "61d85d89",
   "metadata": {},
   "source": [
    "________________________________________________________________________________"
   ]
  },
  {
   "cell_type": "markdown",
   "id": "bac70e81",
   "metadata": {},
   "source": [
    "(b) Computing the LDA sentiment scores for each document using the document-topic probability distribution"
   ]
  },
  {
   "cell_type": "code",
   "execution_count": 17,
   "id": "87cf1889",
   "metadata": {},
   "outputs": [],
   "source": [
    "# Function to calculate the sentiment score of each topic generated from LDA analysis of files in a folder\n",
    "\n",
    "# Parameters : Trained LDA object generated by training_LDA function\n",
    "# Return     : A pandas series of topic-wise sentiment\n",
    "\n",
    "def topic_sentiment(lda):\n",
    "    \n",
    "    # Generating the matrix of topic-word probabilities where columns correspond to words and rows correspond to topics \n",
    "    topics_terms = lda.state.get_lambda()\n",
    "    topics_terms_prob = np.apply_along_axis(lambda x: x/x.sum(),1,topics_terms)\n",
    "    \n",
    "    # Converting the matrix to a DataFrame\n",
    "    index_names = ['Topic'+str(i) for i in range(len(topics_terms))]\n",
    "    topic_word_sent = pd.DataFrame(topics_terms_prob, columns= lda.id2word.values(), index = index_names)\n",
    "    \n",
    "    # Computing the sentiment\n",
    "    for word in lda.id2word.values():\n",
    "        word_sentiment = 0 # Sentiment if word is neutral\n",
    "        if word in post_sent: \n",
    "            word_sentiment = 1 # Sentiment if word is positive\n",
    "        elif word in neg_sent:\n",
    "            word_sentiment = -1 # Sentiment if word is negative\n",
    "            \n",
    "        topic_word_sent[word] = topic_word_sent[word]*word_sentiment # Multiplying the word column with word sentiment\n",
    "        \n",
    "    topic_sent = topic_word_sent.sum(axis=1) # summing across rows to get the total weighted sentiment\n",
    "    \n",
    "    return topic_sent"
   ]
  },
  {
   "cell_type": "code",
   "execution_count": 18,
   "id": "9d98cf2a",
   "metadata": {},
   "outputs": [],
   "source": [
    "# Calculating topic sentiments for minutes_lda \n",
    "minutes_topic_sentiment = topic_sentiment(minutes_lda)\n",
    "\n",
    "# Calculating topic sentiments for TealbookA_lda\n",
    "TealbookA_topic_sentiment = topic_sentiment(TealbookA_lda)\n",
    "\n",
    "# Calculating topic sentiments for TealbookB_lda\n",
    "TealbookB_topic_sentiment = topic_sentiment(TealbookB_lda)"
   ]
  },
  {
   "cell_type": "code",
   "execution_count": 19,
   "id": "a0584061",
   "metadata": {},
   "outputs": [],
   "source": [
    "# Calculating the LDA sentiment score of each document by summing over the multiplication of document-wise topic probability\n",
    "# distribution rows with topic-wise sentiment series   \n",
    "\n",
    "# Generating LDA sentiments for the files in minutes\n",
    "minutes_sentiment_LDA = (minutes_top_prob*minutes_topic_sentiment).sum(axis=1)\n",
    "\n",
    "# Generating LDA sentiments for the files in TealbookA\n",
    "TealbookA_sentiment_LDA = (TealbookA_top_prob*TealbookA_topic_sentiment).sum(axis=1)\n",
    "\n",
    "# Generating LDA sentiments for the files in TealbookB\n",
    "TealbookB_sentiment_LDA = (TealbookB_top_prob*TealbookB_topic_sentiment).sum(axis=1)"
   ]
  },
  {
   "cell_type": "markdown",
   "id": "c9156b3f",
   "metadata": {},
   "source": [
    "_______________________________________________________________________________________________________________________________"
   ]
  },
  {
   "cell_type": "code",
   "execution_count": 20,
   "id": "3cb74577",
   "metadata": {},
   "outputs": [],
   "source": [
    "# Creating a dataframe for each folder with both BOW and LDA sentiment scores\n",
    "\n",
    "minutes_sentiment = pd.DataFrame()\n",
    "TealbookA_sentiment = pd.DataFrame()\n",
    "TealbookB_sentiment = pd.DataFrame()\n",
    "\n",
    "minutes_sentiment['s_BOW'] = minutes_sentiment_bow\n",
    "minutes_sentiment['s_LDA'] = minutes_sentiment_LDA\n",
    "\n",
    "TealbookA_sentiment['s_BOW'] = TealbookA_sentiment_bow\n",
    "TealbookA_sentiment['s_LDA'] = TealbookA_sentiment_LDA\n",
    "\n",
    "TealbookB_sentiment['s_BOW'] = TealbookB_sentiment_bow\n",
    "TealbookB_sentiment['s_LDA'] = TealbookB_sentiment_LDA"
   ]
  },
  {
   "cell_type": "code",
   "execution_count": 82,
   "id": "fe08b23e",
   "metadata": {},
   "outputs": [
    {
     "data": {
      "text/html": [
       "<div>\n",
       "<style scoped>\n",
       "    .dataframe tbody tr th:only-of-type {\n",
       "        vertical-align: middle;\n",
       "    }\n",
       "\n",
       "    .dataframe tbody tr th {\n",
       "        vertical-align: top;\n",
       "    }\n",
       "\n",
       "    .dataframe thead th {\n",
       "        text-align: right;\n",
       "    }\n",
       "</style>\n",
       "<table border=\"1\" class=\"dataframe\">\n",
       "  <thead>\n",
       "    <tr style=\"text-align: right;\">\n",
       "      <th></th>\n",
       "      <th>s_BOW</th>\n",
       "      <th>s_LDA</th>\n",
       "    </tr>\n",
       "    <tr>\n",
       "      <th>datetime</th>\n",
       "      <th></th>\n",
       "      <th></th>\n",
       "    </tr>\n",
       "  </thead>\n",
       "  <tbody>\n",
       "    <tr>\n",
       "      <th>2000-02-02</th>\n",
       "      <td>-0.003802</td>\n",
       "      <td>-0.009123</td>\n",
       "    </tr>\n",
       "    <tr>\n",
       "      <th>2000-03-21</th>\n",
       "      <td>0.004351</td>\n",
       "      <td>-0.010441</td>\n",
       "    </tr>\n",
       "    <tr>\n",
       "      <th>2000-05-16</th>\n",
       "      <td>-0.006322</td>\n",
       "      <td>-0.010936</td>\n",
       "    </tr>\n",
       "    <tr>\n",
       "      <th>2000-06-28</th>\n",
       "      <td>-0.012528</td>\n",
       "      <td>-0.010945</td>\n",
       "    </tr>\n",
       "    <tr>\n",
       "      <th>2000-08-22</th>\n",
       "      <td>-0.009036</td>\n",
       "      <td>-0.010988</td>\n",
       "    </tr>\n",
       "  </tbody>\n",
       "</table>\n",
       "</div>"
      ],
      "text/plain": [
       "               s_BOW     s_LDA\n",
       "datetime                      \n",
       "2000-02-02 -0.003802 -0.009123\n",
       "2000-03-21  0.004351 -0.010441\n",
       "2000-05-16 -0.006322 -0.010936\n",
       "2000-06-28 -0.012528 -0.010945\n",
       "2000-08-22 -0.009036 -0.010988"
      ]
     },
     "execution_count": 82,
     "metadata": {},
     "output_type": "execute_result"
    }
   ],
   "source": [
    "minutes_sentiment.head()"
   ]
  },
  {
   "cell_type": "code",
   "execution_count": 81,
   "id": "41e0e445",
   "metadata": {},
   "outputs": [
    {
     "data": {
      "text/html": [
       "<div>\n",
       "<style scoped>\n",
       "    .dataframe tbody tr th:only-of-type {\n",
       "        vertical-align: middle;\n",
       "    }\n",
       "\n",
       "    .dataframe tbody tr th {\n",
       "        vertical-align: top;\n",
       "    }\n",
       "\n",
       "    .dataframe thead th {\n",
       "        text-align: right;\n",
       "    }\n",
       "</style>\n",
       "<table border=\"1\" class=\"dataframe\">\n",
       "  <thead>\n",
       "    <tr style=\"text-align: right;\">\n",
       "      <th></th>\n",
       "      <th>s_BOW</th>\n",
       "      <th>s_LDA</th>\n",
       "    </tr>\n",
       "    <tr>\n",
       "      <th>datetime</th>\n",
       "      <th></th>\n",
       "      <th></th>\n",
       "    </tr>\n",
       "  </thead>\n",
       "  <tbody>\n",
       "    <tr>\n",
       "      <th>2000-01-27</th>\n",
       "      <td>-0.005915</td>\n",
       "      <td>-0.011297</td>\n",
       "    </tr>\n",
       "    <tr>\n",
       "      <th>2000-03-15</th>\n",
       "      <td>-0.005456</td>\n",
       "      <td>-0.010303</td>\n",
       "    </tr>\n",
       "    <tr>\n",
       "      <th>2000-05-11</th>\n",
       "      <td>-0.007125</td>\n",
       "      <td>-0.009749</td>\n",
       "    </tr>\n",
       "    <tr>\n",
       "      <th>2000-06-21</th>\n",
       "      <td>-0.012389</td>\n",
       "      <td>-0.009666</td>\n",
       "    </tr>\n",
       "    <tr>\n",
       "      <th>2000-08-16</th>\n",
       "      <td>-0.008129</td>\n",
       "      <td>-0.011731</td>\n",
       "    </tr>\n",
       "  </tbody>\n",
       "</table>\n",
       "</div>"
      ],
      "text/plain": [
       "               s_BOW     s_LDA\n",
       "datetime                      \n",
       "2000-01-27 -0.005915 -0.011297\n",
       "2000-03-15 -0.005456 -0.010303\n",
       "2000-05-11 -0.007125 -0.009749\n",
       "2000-06-21 -0.012389 -0.009666\n",
       "2000-08-16 -0.008129 -0.011731"
      ]
     },
     "execution_count": 81,
     "metadata": {},
     "output_type": "execute_result"
    }
   ],
   "source": [
    "TealbookA_sentiment.head()"
   ]
  },
  {
   "cell_type": "code",
   "execution_count": 80,
   "id": "39e5b457",
   "metadata": {},
   "outputs": [
    {
     "data": {
      "text/html": [
       "<div>\n",
       "<style scoped>\n",
       "    .dataframe tbody tr th:only-of-type {\n",
       "        vertical-align: middle;\n",
       "    }\n",
       "\n",
       "    .dataframe tbody tr th {\n",
       "        vertical-align: top;\n",
       "    }\n",
       "\n",
       "    .dataframe thead th {\n",
       "        text-align: right;\n",
       "    }\n",
       "</style>\n",
       "<table border=\"1\" class=\"dataframe\">\n",
       "  <thead>\n",
       "    <tr style=\"text-align: right;\">\n",
       "      <th></th>\n",
       "      <th>s_BOW</th>\n",
       "      <th>s_LDA</th>\n",
       "    </tr>\n",
       "    <tr>\n",
       "      <th>datetime</th>\n",
       "      <th></th>\n",
       "      <th></th>\n",
       "    </tr>\n",
       "  </thead>\n",
       "  <tbody>\n",
       "    <tr>\n",
       "      <th>2000-01-28</th>\n",
       "      <td>-0.015993</td>\n",
       "      <td>-0.020697</td>\n",
       "    </tr>\n",
       "    <tr>\n",
       "      <th>2000-03-17</th>\n",
       "      <td>-0.010223</td>\n",
       "      <td>-0.021158</td>\n",
       "    </tr>\n",
       "    <tr>\n",
       "      <th>2000-05-12</th>\n",
       "      <td>-0.017864</td>\n",
       "      <td>-0.021271</td>\n",
       "    </tr>\n",
       "    <tr>\n",
       "      <th>2000-06-23</th>\n",
       "      <td>-0.021940</td>\n",
       "      <td>-0.021158</td>\n",
       "    </tr>\n",
       "    <tr>\n",
       "      <th>2000-08-18</th>\n",
       "      <td>-0.021277</td>\n",
       "      <td>-0.021157</td>\n",
       "    </tr>\n",
       "  </tbody>\n",
       "</table>\n",
       "</div>"
      ],
      "text/plain": [
       "               s_BOW     s_LDA\n",
       "datetime                      \n",
       "2000-01-28 -0.015993 -0.020697\n",
       "2000-03-17 -0.010223 -0.021158\n",
       "2000-05-12 -0.017864 -0.021271\n",
       "2000-06-23 -0.021940 -0.021158\n",
       "2000-08-18 -0.021277 -0.021157"
      ]
     },
     "execution_count": 80,
     "metadata": {},
     "output_type": "execute_result"
    }
   ],
   "source": [
    "TealbookB_sentiment.head()"
   ]
  },
  {
   "cell_type": "code",
   "execution_count": 84,
   "id": "aabf1514",
   "metadata": {},
   "outputs": [
    {
     "data": {
      "image/png": "[encoded data removed]",
      "text/plain": [
       "<Figure size 432x288 with 1 Axes>"
      ]
     },
     "metadata": {
      "needs_background": "light"
     },
     "output_type": "display_data"
    }
   ],
   "source": [
    "# Plotting the minutes_sentiment corresponding to s_BOW and s_LDA\n",
    "\n",
    "plt.plot(minutes_sentiment['s_BOW'])\n",
    "plt.plot(minutes_sentiment['s_LDA'])\n",
    "plt.legend(['s_BOW', 's_LDA'])\n",
    "plt.title(\"Comparison of Sentiment Scores\")\n",
    "plt.show()"
   ]
  },
  {
   "cell_type": "markdown",
   "id": "004b33f2",
   "metadata": {},
   "source": [
    "## Computing Distance Measures"
   ]
  },
  {
   "cell_type": "markdown",
   "id": "e2c535ea",
   "metadata": {},
   "source": [
    "#### 1. Kullback-Leibler divergence"
   ]
  },
  {
   "cell_type": "code",
   "execution_count": 24,
   "id": "d8ded4ad",
   "metadata": {},
   "outputs": [],
   "source": [
    "# Function to calculate Kullback-Leibler divergence\n",
    "\n",
    "# Parameter : A dataframe of document-wise topic-probability distribution generated by df_generator function\n",
    "# Return    : A pandas series of kl divergence between consecutive documents\n",
    "\n",
    "def kullback_leibler(top_prob):\n",
    "    \n",
    "    # Calculated using the formula mentioned in the writeup\n",
    "    kl_divergence = ((top_prob.shift(1)) * (abs(np.log(((top_prob + 0.00001).shift(1))/(top_prob + 0.00001))))).sum(axis=1)\n",
    "    \n",
    "    return kl_divergence"
   ]
  },
  {
   "cell_type": "code",
   "execution_count": 25,
   "id": "dfc3f132",
   "metadata": {},
   "outputs": [],
   "source": [
    "# Computing the minutes_kl_divergence \n",
    "minutes_kl_divergence = kullback_leibler(minutes_top_prob)\n",
    "\n",
    "# Computing the TealbookA_kl_divergence\n",
    "TealbookA_kl_divergence = kullback_leibler(TealbookA_top_prob)\n",
    "\n",
    "# Computing the TealbookB_kl_divergence\n",
    "TealbookB_kl_divergence = kullback_leibler(TealbookB_top_prob)"
   ]
  },
  {
   "cell_type": "markdown",
   "id": "5c35257b",
   "metadata": {},
   "source": [
    "#### 2. Sentiment adjusted Kullback-Leibler divergence"
   ]
  },
  {
   "cell_type": "code",
   "execution_count": 27,
   "id": "a3594b6d",
   "metadata": {},
   "outputs": [],
   "source": [
    "# Function to calculate sentiment-adjusted Kullback-Leibler divergence\n",
    "\n",
    "# Parameter : (1) A dataframe of document-wise topic-probability distribution generated by df_generator function\n",
    "#             (2) A pandas series of topic-wise sentiment score generated by topic_sentiment function\n",
    "# Return    : A pandas series of sentiment adjusted kl divergence between consecutive documents\n",
    "\n",
    "def sentadj_kullback_leibler(top_prob, topic_sent):\n",
    "    \n",
    "    # Calculated using the formula mentioned in the writeup\n",
    "    \n",
    "    # Calculating the kl_divergence terms\n",
    "    kl_divergence = ((top_prob.shift(1)) * (abs(np.log(((top_prob + 0.0000001).shift(1))/(top_prob + 0.0000001)))))\n",
    "    # Multiplying the absolute value of topic sentiment(normalized using median) with kl divergence terms \n",
    "    skl_divergence = (kl_divergence*(abs(topic_sent)/((abs(topic_sent)).median()))).sum(axis=1)\n",
    "    \n",
    "    return skl_divergence"
   ]
  },
  {
   "cell_type": "code",
   "execution_count": 28,
   "id": "8829ca50",
   "metadata": {},
   "outputs": [],
   "source": [
    "# Computing the minutes_kl_divergence \n",
    "minutes_skl_divergence = sentadj_kullback_leibler(minutes_top_prob, minutes_topic_sentiment)\n",
    "\n",
    "# Computing the TealbookA_kl_divergence\n",
    "TealbookA_skl_divergence = sentadj_kullback_leibler(TealbookA_top_prob, TealbookA_topic_sentiment)\n",
    "\n",
    "# Computing the TealbookB_kl_divergence\n",
    "TealbookB_skl_divergence = sentadj_kullback_leibler(TealbookB_top_prob, TealbookB_topic_sentiment)"
   ]
  },
  {
   "cell_type": "code",
   "execution_count": 88,
   "id": "30b3af4e",
   "metadata": {},
   "outputs": [
    {
     "data": {
      "image/png": "[encoded data removed]",
      "text/plain": [
       "<Figure size 432x288 with 1 Axes>"
      ]
     },
     "metadata": {
      "needs_background": "light"
     },
     "output_type": "display_data"
    },
    {
     "data": {
      "image/png": "[encoded data removed]",
      "text/plain": [
       "<Figure size 432x288 with 1 Axes>"
      ]
     },
     "metadata": {
      "needs_background": "light"
     },
     "output_type": "display_data"
    }
   ],
   "source": [
    "# Plotting the kl and skl divergences\n",
    "\n",
    "plt.plot(minutes_kl_divergence)\n",
    "plt.title(\"KL Divergence Scores\")\n",
    "plt.show()\n",
    "\n",
    "plt.plot(minutes_skl_divergence)\n",
    "plt.title(\"Sentiment-Adjusted KL Divergence Scores\")\n",
    "plt.show()"
   ]
  },
  {
   "cell_type": "markdown",
   "id": "fdfae05f",
   "metadata": {},
   "source": [
    "#### 3. Document embeddings with Doc2Vec"
   ]
  },
  {
   "cell_type": "code",
   "execution_count": 30,
   "id": "17c4ceb5",
   "metadata": {},
   "outputs": [],
   "source": [
    "# Function to create the doc2vec dataframe\n",
    "\n",
    "# Parameter : Dictionary generated by the stemmer function\n",
    "# Return    : (1) PVDM distance vector dataframe\n",
    "#             (2) DBOW distance vector dataframe\n",
    "\n",
    "def doc2vec(processed_dict):\n",
    "    \n",
    "    # Accessing the keys and values from the procssed dictionary \n",
    "    file_name = list(processed_dict.keys())\n",
    "    file_words = list(processed_dict.values())\n",
    "    \n",
    "    # Covertinf filename to datetime\n",
    "    date_time = [datetime.strptime(el[:-4], '%m%d%Y') for el in file_name]\n",
    "    \n",
    "    # Creating a new dictionary with keys as datetime\n",
    "    datetime_dict = dict(zip(date_time, file_words))\n",
    "    \n",
    "    # Sorting the dictionary using keys\n",
    "    ordered_datetime_dict = dict(collections.OrderedDict(sorted(datetime_dict.items())))\n",
    "    \n",
    "    # Using the ordered dictionary to create the doc2vec vector\n",
    "    analyzedDocument = namedtuple('AnalyzedWord', 'words tags')\n",
    "    docs = list()\n",
    "    \n",
    "    for date, text in ordered_datetime_dict.items():    \n",
    "        tags = [date]\n",
    "        docs.append(analyzedDocument(text, tags))\n",
    "    \n",
    "    # Generating the document embedding vectors according to both Distributed Memory and Distributed Bag-of-Words \n",
    "    # using Gensim\n",
    "    # *Note: min_count = 1 ignores hapax words\n",
    "    model_pvdm = Doc2Vec(docs, dm=1, vector_size=300, window=20, min_count=1, workers=4)\n",
    "    model_dbow = Doc2Vec(docs, dm=0, vector_size=300, window=20, min_count=1, workers=4)\n",
    "    \n",
    "    return model_pvdm.docvecs, model_dbow.docvecs"
   ]
  },
  {
   "cell_type": "code",
   "execution_count": 31,
   "id": "cea0b8e2",
   "metadata": {},
   "outputs": [
    {
     "name": "stderr",
     "output_type": "stream",
     "text": [
      "/tmp/6715908.1.large.q/ipykernel_13596/2100300335.py:35: DeprecationWarning: Call to deprecated `docvecs` (The `docvecs` property has been renamed `dv`.).\n",
      "  return model_pvdm.docvecs, model_dbow.docvecs\n"
     ]
    }
   ],
   "source": [
    "# Computing doc2vec vectors for minutes_processed\n",
    "minutes_pvdm, minutes_dbow = doc2vec(minutes_processed)\n",
    "\n",
    "# Computing doc2vec vectors for TealbookA_processed\n",
    "TealbookA_pvdm, TealbookA_dbow = doc2vec(TealbookA_processed)\n",
    "\n",
    "# Computing doc2vec vectors for TealbookB_processed\n",
    "TealbookB_pvdm, TealbookB_dbow = doc2vec(TealbookB_processed)"
   ]
  },
  {
   "cell_type": "code",
   "execution_count": 32,
   "id": "215c977e",
   "metadata": {},
   "outputs": [],
   "source": [
    "# Function to compute the pair-wise euclidean distance between consecutive document embedding vectors calculated in previous\n",
    "# cell where consecutive is as defined in the write-up subsection 1.2.1\n",
    "\n",
    "# Parameters : list of vectors created by doc2vec function\n",
    "# Return     : pair wise euclidean distance between consequtive vectors \n",
    "\n",
    "def euclidean_distance(list_of_vectors):\n",
    "    \n",
    "    vectors = [list_of_vectors[i] for i in range(len(list_of_vectors))]\n",
    "    distance_vector = np.diff(vectors, axis=0)\n",
    "    distance = np.sqrt((distance_vector ** 2).sum(axis=1))\n",
    "    \n",
    "    return distance"
   ]
  },
  {
   "cell_type": "code",
   "execution_count": 33,
   "id": "5361a11d",
   "metadata": {},
   "outputs": [],
   "source": [
    "# Calculating the 2 distance metrics for minutes folder\n",
    "minutes_pvdm_distance = euclidean_distance(minutes_pvdm)\n",
    "minutes_dbow_distance = euclidean_distance(minutes_dbow)\n",
    "\n",
    "# Calculating the 2 distance metrics for TealbookA folder\n",
    "TealbookA_pvdm_distance = euclidean_distance(TealbookA_pvdm)\n",
    "TealbookA_dbow_distance = euclidean_distance(TealbookA_dbow)\n",
    "\n",
    "# Calculating the 2 distance metrics for TealbookB folder\n",
    "TealbookB_pvdm_distance = euclidean_distance(TealbookB_pvdm)\n",
    "TealbookB_dbow_distance = euclidean_distance(TealbookB_dbow)"
   ]
  },
  {
   "cell_type": "markdown",
   "id": "e015ae65",
   "metadata": {},
   "source": [
    "_______________________________________________________________________________________________________________________________"
   ]
  },
  {
   "cell_type": "code",
   "execution_count": 34,
   "id": "dac65947",
   "metadata": {},
   "outputs": [],
   "source": [
    "# Function to create a dataframe for each folder which includes KL_div, SKL_div, pvdm_distance, dbow_distance for each \n",
    "# file in folder \n",
    "\n",
    "def dist_df_generator(kl_div, skl_div, pvdm_distance, dbow_distance):\n",
    "    \n",
    "    df = pd.DataFrame()\n",
    "    df['kl_div'] = kl_div[1:]\n",
    "    df['skl_div'] = skl_div[1:]\n",
    "    df['pvdm_dist'] = pvdm_distance\n",
    "    df['dbow_dist'] = dbow_distance\n",
    "    \n",
    "    return df"
   ]
  },
  {
   "cell_type": "code",
   "execution_count": 35,
   "id": "df638aaf",
   "metadata": {},
   "outputs": [],
   "source": [
    "# Generating the datafram for minutes folder\n",
    "minutes_distance = dist_df_generator(minutes_kl_divergence, minutes_skl_divergence, minutes_pvdm_distance, minutes_dbow_distance)\n",
    "\n",
    "# Generating the datafram for TealbookA folder\n",
    "TealbookA_distance = dist_df_generator(TealbookA_kl_divergence, TealbookA_skl_divergence, TealbookA_pvdm_distance, TealbookA_dbow_distance)\n",
    "\n",
    "# Generating the datafram for TealbookB folder\n",
    "TealbookB_distance = dist_df_generator(TealbookB_kl_divergence, TealbookB_skl_divergence, TealbookB_pvdm_distance, TealbookB_dbow_distance)"
   ]
  },
  {
   "cell_type": "code",
   "execution_count": 77,
   "id": "262456f0",
   "metadata": {},
   "outputs": [
    {
     "data": {
      "text/html": [
       "<div>\n",
       "<style scoped>\n",
       "    .dataframe tbody tr th:only-of-type {\n",
       "        vertical-align: middle;\n",
       "    }\n",
       "\n",
       "    .dataframe tbody tr th {\n",
       "        vertical-align: top;\n",
       "    }\n",
       "\n",
       "    .dataframe thead th {\n",
       "        text-align: right;\n",
       "    }\n",
       "</style>\n",
       "<table border=\"1\" class=\"dataframe\">\n",
       "  <thead>\n",
       "    <tr style=\"text-align: right;\">\n",
       "      <th></th>\n",
       "      <th>kl_div</th>\n",
       "      <th>skl_div</th>\n",
       "      <th>pvdm_dist</th>\n",
       "      <th>dbow_dist</th>\n",
       "    </tr>\n",
       "    <tr>\n",
       "      <th>datetime</th>\n",
       "      <th></th>\n",
       "      <th></th>\n",
       "      <th></th>\n",
       "      <th></th>\n",
       "    </tr>\n",
       "  </thead>\n",
       "  <tbody>\n",
       "    <tr>\n",
       "      <th>2000-03-21</th>\n",
       "      <td>0.799097</td>\n",
       "      <td>0.170769</td>\n",
       "      <td>6.279603</td>\n",
       "      <td>2.155903</td>\n",
       "    </tr>\n",
       "    <tr>\n",
       "      <th>2000-05-16</th>\n",
       "      <td>0.418526</td>\n",
       "      <td>0.087299</td>\n",
       "      <td>6.087953</td>\n",
       "      <td>1.422561</td>\n",
       "    </tr>\n",
       "    <tr>\n",
       "      <th>2000-06-28</th>\n",
       "      <td>0.004640</td>\n",
       "      <td>0.001075</td>\n",
       "      <td>5.501508</td>\n",
       "      <td>1.567591</td>\n",
       "    </tr>\n",
       "    <tr>\n",
       "      <th>2000-08-22</th>\n",
       "      <td>0.083349</td>\n",
       "      <td>0.024756</td>\n",
       "      <td>5.175399</td>\n",
       "      <td>1.527351</td>\n",
       "    </tr>\n",
       "    <tr>\n",
       "      <th>2000-10-03</th>\n",
       "      <td>0.000009</td>\n",
       "      <td>0.000003</td>\n",
       "      <td>4.978217</td>\n",
       "      <td>1.490780</td>\n",
       "    </tr>\n",
       "  </tbody>\n",
       "</table>\n",
       "</div>"
      ],
      "text/plain": [
       "              kl_div   skl_div  pvdm_dist  dbow_dist\n",
       "datetime                                            \n",
       "2000-03-21  0.799097  0.170769   6.279603   2.155903\n",
       "2000-05-16  0.418526  0.087299   6.087953   1.422561\n",
       "2000-06-28  0.004640  0.001075   5.501508   1.567591\n",
       "2000-08-22  0.083349  0.024756   5.175399   1.527351\n",
       "2000-10-03  0.000009  0.000003   4.978217   1.490780"
      ]
     },
     "execution_count": 77,
     "metadata": {},
     "output_type": "execute_result"
    }
   ],
   "source": [
    "minutes_distance.head()"
   ]
  },
  {
   "cell_type": "code",
   "execution_count": 78,
   "id": "e26b9ca5",
   "metadata": {},
   "outputs": [
    {
     "data": {
      "text/html": [
       "<div>\n",
       "<style scoped>\n",
       "    .dataframe tbody tr th:only-of-type {\n",
       "        vertical-align: middle;\n",
       "    }\n",
       "\n",
       "    .dataframe tbody tr th {\n",
       "        vertical-align: top;\n",
       "    }\n",
       "\n",
       "    .dataframe thead th {\n",
       "        text-align: right;\n",
       "    }\n",
       "</style>\n",
       "<table border=\"1\" class=\"dataframe\">\n",
       "  <thead>\n",
       "    <tr style=\"text-align: right;\">\n",
       "      <th></th>\n",
       "      <th>kl_div</th>\n",
       "      <th>skl_div</th>\n",
       "      <th>pvdm_dist</th>\n",
       "      <th>dbow_dist</th>\n",
       "    </tr>\n",
       "    <tr>\n",
       "      <th>datetime</th>\n",
       "      <th></th>\n",
       "      <th></th>\n",
       "      <th></th>\n",
       "      <th></th>\n",
       "    </tr>\n",
       "  </thead>\n",
       "  <tbody>\n",
       "    <tr>\n",
       "      <th>2000-03-15</th>\n",
       "      <td>0.100169</td>\n",
       "      <td>0.075470</td>\n",
       "      <td>9.102190</td>\n",
       "      <td>1.743623</td>\n",
       "    </tr>\n",
       "    <tr>\n",
       "      <th>2000-05-11</th>\n",
       "      <td>0.228799</td>\n",
       "      <td>0.245951</td>\n",
       "      <td>9.703362</td>\n",
       "      <td>1.797388</td>\n",
       "    </tr>\n",
       "    <tr>\n",
       "      <th>2000-06-21</th>\n",
       "      <td>0.428228</td>\n",
       "      <td>0.435388</td>\n",
       "      <td>8.974598</td>\n",
       "      <td>1.927949</td>\n",
       "    </tr>\n",
       "    <tr>\n",
       "      <th>2000-08-16</th>\n",
       "      <td>0.196696</td>\n",
       "      <td>0.108124</td>\n",
       "      <td>9.379135</td>\n",
       "      <td>1.788553</td>\n",
       "    </tr>\n",
       "    <tr>\n",
       "      <th>2000-09-27</th>\n",
       "      <td>0.234620</td>\n",
       "      <td>0.129349</td>\n",
       "      <td>10.002398</td>\n",
       "      <td>2.132004</td>\n",
       "    </tr>\n",
       "  </tbody>\n",
       "</table>\n",
       "</div>"
      ],
      "text/plain": [
       "              kl_div   skl_div  pvdm_dist  dbow_dist\n",
       "datetime                                            \n",
       "2000-03-15  0.100169  0.075470   9.102190   1.743623\n",
       "2000-05-11  0.228799  0.245951   9.703362   1.797388\n",
       "2000-06-21  0.428228  0.435388   8.974598   1.927949\n",
       "2000-08-16  0.196696  0.108124   9.379135   1.788553\n",
       "2000-09-27  0.234620  0.129349  10.002398   2.132004"
      ]
     },
     "execution_count": 78,
     "metadata": {},
     "output_type": "execute_result"
    }
   ],
   "source": [
    "TealbookA_distance.head()"
   ]
  },
  {
   "cell_type": "code",
   "execution_count": 79,
   "id": "cebdf918",
   "metadata": {},
   "outputs": [
    {
     "data": {
      "text/html": [
       "<div>\n",
       "<style scoped>\n",
       "    .dataframe tbody tr th:only-of-type {\n",
       "        vertical-align: middle;\n",
       "    }\n",
       "\n",
       "    .dataframe tbody tr th {\n",
       "        vertical-align: top;\n",
       "    }\n",
       "\n",
       "    .dataframe thead th {\n",
       "        text-align: right;\n",
       "    }\n",
       "</style>\n",
       "<table border=\"1\" class=\"dataframe\">\n",
       "  <thead>\n",
       "    <tr style=\"text-align: right;\">\n",
       "      <th></th>\n",
       "      <th>kl_div</th>\n",
       "      <th>skl_div</th>\n",
       "      <th>pvdm_dist</th>\n",
       "      <th>dbow_dist</th>\n",
       "    </tr>\n",
       "    <tr>\n",
       "      <th>datetime</th>\n",
       "      <th></th>\n",
       "      <th></th>\n",
       "      <th></th>\n",
       "      <th></th>\n",
       "    </tr>\n",
       "  </thead>\n",
       "  <tbody>\n",
       "    <tr>\n",
       "      <th>2000-03-17</th>\n",
       "      <td>0.584294</td>\n",
       "      <td>0.468157</td>\n",
       "      <td>12.441442</td>\n",
       "      <td>4.007257</td>\n",
       "    </tr>\n",
       "    <tr>\n",
       "      <th>2000-05-12</th>\n",
       "      <td>0.024385</td>\n",
       "      <td>0.019962</td>\n",
       "      <td>7.086219</td>\n",
       "      <td>1.816576</td>\n",
       "    </tr>\n",
       "    <tr>\n",
       "      <th>2000-06-23</th>\n",
       "      <td>0.211485</td>\n",
       "      <td>0.318129</td>\n",
       "      <td>10.090996</td>\n",
       "      <td>3.182932</td>\n",
       "    </tr>\n",
       "    <tr>\n",
       "      <th>2000-08-18</th>\n",
       "      <td>0.000040</td>\n",
       "      <td>0.000033</td>\n",
       "      <td>8.068481</td>\n",
       "      <td>3.175870</td>\n",
       "    </tr>\n",
       "    <tr>\n",
       "      <th>2000-09-29</th>\n",
       "      <td>0.000003</td>\n",
       "      <td>0.000002</td>\n",
       "      <td>5.688002</td>\n",
       "      <td>1.335948</td>\n",
       "    </tr>\n",
       "  </tbody>\n",
       "</table>\n",
       "</div>"
      ],
      "text/plain": [
       "              kl_div   skl_div  pvdm_dist  dbow_dist\n",
       "datetime                                            \n",
       "2000-03-17  0.584294  0.468157  12.441442   4.007257\n",
       "2000-05-12  0.024385  0.019962   7.086219   1.816576\n",
       "2000-06-23  0.211485  0.318129  10.090996   3.182932\n",
       "2000-08-18  0.000040  0.000033   8.068481   3.175870\n",
       "2000-09-29  0.000003  0.000002   5.688002   1.335948"
      ]
     },
     "execution_count": 79,
     "metadata": {},
     "output_type": "execute_result"
    }
   ],
   "source": [
    "TealbookB_distance.head()"
   ]
  },
  {
   "cell_type": "markdown",
   "id": "7408323e",
   "metadata": {},
   "source": [
    "## Regression Analysis"
   ]
  },
  {
   "cell_type": "code",
   "execution_count": 39,
   "id": "d56aa0b1",
   "metadata": {},
   "outputs": [],
   "source": [
    "# Function to run our regressions\n",
    "\n",
    "# Parameters : (1) Independent variable(s)\n",
    "#              (2) Dependent variable\n",
    "# Return     : Output of regression\n",
    "\n",
    "def regression(x, y):\n",
    "    X = sm.add_constant(x)\n",
    "    \n",
    "    model = sm.OLS(y, X)\n",
    "    results = model.fit()\n",
    "    \n",
    "    return results"
   ]
  },
  {
   "cell_type": "markdown",
   "id": "22d226fb",
   "metadata": {},
   "source": [
    "#### 1. Regression analysis with sentiment scores"
   ]
  },
  {
   "cell_type": "code",
   "execution_count": 40,
   "id": "94a79aca",
   "metadata": {},
   "outputs": [],
   "source": [
    "# Reading the excel file for sentiment regression\n",
    "fred_sent = pd.read_excel(\"two_yr_tnotes_sentscores.xls\")\n",
    "fred_sent.set_index('date', inplace =True)\n",
    "\n",
    "# Left merge FRED excel on sentiment dataframes \n",
    "minutes_sent_regression = minutes_sentiment.merge(fred_sent, left_index=True, right_index=True)\n",
    "TealbookA_sent_regression = TealbookA_sentiment.merge(fred_sent, left_index=True, right_index=True)\n",
    "TealbookB_sent_regression = TealbookB_sentiment.merge(fred_sent, left_index=True, right_index=True)"
   ]
  },
  {
   "cell_type": "code",
   "execution_count": 41,
   "id": "5a751598",
   "metadata": {},
   "outputs": [],
   "source": [
    "# Creating tuples of valid regressor and regressand column names\n",
    "\n",
    "dependent_regressor_tags = ['fiveday_historical_vol', 'fiveday_future_vol', 'fiveday_historical_yc', 'fiveday_future_yc']\n",
    "s_BOW_tuples = [('s_BOW', el) for el in dependent_regressor_tags]\n",
    "s_LDA_tuples = [('s_LDA', el) for el in dependent_regressor_tags]"
   ]
  },
  {
   "cell_type": "markdown",
   "id": "f69840af",
   "metadata": {},
   "source": [
    "(a) Regression using s_BOW as the independent variable"
   ]
  },
  {
   "cell_type": "code",
   "execution_count": 42,
   "id": "9c15c66d",
   "metadata": {},
   "outputs": [
    {
     "name": "stderr",
     "output_type": "stream",
     "text": [
      "/apps/anaconda3/lib/python3.9/site-packages/statsmodels/tsa/tsatools.py:142: FutureWarning: In a future version of pandas all arguments of concat except for the argument 'objs' will be keyword-only\n",
      "  x = pd.concat(x[::order], 1)\n"
     ]
    }
   ],
   "source": [
    "# Regressions using minutes_sent_regression\n",
    "minutes_sBOW_result = [regression(minutes_sent_regression[item[0]], minutes_sent_regression[item[1]]) for item in s_BOW_tuples]\n",
    "\n",
    "# Regressions using TealbookA_sent_regression\n",
    "TealbookA_sBOW_result = [regression(TealbookA_sent_regression[item[0]], TealbookA_sent_regression[item[1]]) for item \n",
    "                         in s_BOW_tuples]\n",
    "\n",
    "# Regressions using TealbookB_sent_regression\n",
    "TealbookB_sBOW_result = [regression(TealbookB_sent_regression[item[0]], TealbookB_sent_regression[item[1]]) for item \n",
    "                         in s_BOW_tuples]"
   ]
  },
  {
   "cell_type": "code",
   "execution_count": null,
   "id": "5bb413b5",
   "metadata": {},
   "outputs": [],
   "source": [
    "# # Printing minutes - s_BOW regression results. See output tables in Conclusion section.\n",
    "\n",
    "# for i in range(len(dependent_regressor_tags)):\n",
    "#     print(\"The regression results for s_BOW as independent variable and \"+dependent_regressor_tags[i]+\" as dependent variable:\")\n",
    "#     print(minutes_sBOW_result[i].summary())"
   ]
  },
  {
   "cell_type": "code",
   "execution_count": null,
   "id": "5c830d21",
   "metadata": {},
   "outputs": [],
   "source": [
    "# # Printing TealbookA - s_BOW regression results. See output tables in Conclusion section.\n",
    "\n",
    "# for i in range(len(dependent_regressor_tags)):\n",
    "#     print(\"The regression results for s_BOW as independent variable and \"+dependent_regressor_tags[i]+\" as dependent variable:\")\n",
    "#     print(TealbookA_sBOW_result[i].summary())"
   ]
  },
  {
   "cell_type": "code",
   "execution_count": null,
   "id": "5b405c20",
   "metadata": {},
   "outputs": [],
   "source": [
    "# # Printing TealbookB - s_BOW regression results. See output tables in Conclusion section.\n",
    "\n",
    "# for i in range(len(dependent_regressor_tags)):\n",
    "#     print(\"The regression results for s_BOW as independent variable and \"+dependent_regressor_tags[i]+\" as dependent variable:\")\n",
    "#     print(TealbookB_sBOW_result[i].summary())"
   ]
  },
  {
   "cell_type": "markdown",
   "id": "811ce977",
   "metadata": {},
   "source": [
    "_______________________________"
   ]
  },
  {
   "cell_type": "markdown",
   "id": "1f19349b",
   "metadata": {},
   "source": [
    "(b) Regression using s_LDA as the independent variable"
   ]
  },
  {
   "cell_type": "code",
   "execution_count": 43,
   "id": "77492110",
   "metadata": {},
   "outputs": [],
   "source": [
    "# Regressions using minutes_sent_regression\n",
    "minutes_sLDA_result = [regression(minutes_sent_regression[item[0]], minutes_sent_regression[item[1]]) for item in s_LDA_tuples]\n",
    "\n",
    "# Regressions using TealbookA_sent_regression\n",
    "TealbookA_sLDA_result = [regression(TealbookA_sent_regression[item[0]], TealbookA_sent_regression[item[1]]) for item \n",
    "                         in s_LDA_tuples]\n",
    "\n",
    "# Regressions using TealbookB_sent_regression\n",
    "TealbookB_sLDA_result = [regression(TealbookB_sent_regression[item[0]], TealbookB_sent_regression[item[1]]) for item \n",
    "                         in s_LDA_tuples]"
   ]
  },
  {
   "cell_type": "code",
   "execution_count": null,
   "id": "cea61fd2",
   "metadata": {},
   "outputs": [],
   "source": [
    "# # Printing minutes - s_LDA regression results. See output tables in Conclusion section.\n",
    "\n",
    "# for i in range(len(dependent_regressor_tags)):\n",
    "#     print(\"The regression results for s_LDA as independent variable and \"+dependent_regressor_tags[i]+\" as dependent variable:\")\n",
    "#     print(minutes_sLDA_result[i].summary())"
   ]
  },
  {
   "cell_type": "code",
   "execution_count": null,
   "id": "e00354a3",
   "metadata": {},
   "outputs": [],
   "source": [
    "# # Printing TealbookA - s_LDA regression results. See output tables in Conclusion section.\n",
    "\n",
    "# for i in range(len(dependent_regressor_tags)):\n",
    "#     print(\"The regression results for s_LDA as independent variable and \"+dependent_regressor_tags[i]+\" as dependent variable:\")\n",
    "#     print(TealbookA_sLDA_result[i].summary())"
   ]
  },
  {
   "cell_type": "code",
   "execution_count": null,
   "id": "d72c5b1f",
   "metadata": {},
   "outputs": [],
   "source": [
    "# # Printing TealbookB - s_LDA regression results. See output tables in Conclusion section.\n",
    "\n",
    "# for i in range(len(dependent_regressor_tags)):\n",
    "#     print(\"The regression results for s_LDA as independent variable and \"+dependent_regressor_tags[i]+\" as dependent variable:\")\n",
    "#     print(TealbookB_sLDA_result[i].summary())"
   ]
  },
  {
   "cell_type": "markdown",
   "id": "bb5708cb",
   "metadata": {},
   "source": [
    "#### 2. Regression analysis with distance measures "
   ]
  },
  {
   "cell_type": "code",
   "execution_count": 44,
   "id": "fe56813d",
   "metadata": {},
   "outputs": [],
   "source": [
    "# Reading the excel files for distance regressions\n",
    "\n",
    "fred_dist = pd.read_excel(\"two_yr_tnotes_distmeasures.xls\")\n",
    "fred_dist.set_index('date', inplace =True)\n",
    "\n",
    "minutes_dist_regression = minutes_distance.merge(fred_dist, left_index=True, right_index=True)\n",
    "\n",
    "TealbookA_dist_regression = TealbookA_distance.merge(fred_dist, left_index=True, right_index=True)\n",
    "\n",
    "TealbookB_dist_regression = TealbookB_distance.merge(fred_dist, left_index=True, right_index=True)"
   ]
  },
  {
   "cell_type": "code",
   "execution_count": 45,
   "id": "db161833",
   "metadata": {},
   "outputs": [],
   "source": [
    "# Creating tuples of valid regressor and regrassand column names\n",
    "\n",
    "dependent_regressor_tags = ['fiveday_historical_vol', 'fiveday_future_vol', 'fiveday_historical_ayc', 'fiveday_future_acm']\n",
    "kl_div_tuples = [('kl_div', el) for el in dependent_regressor_tags]\n",
    "skl_div_tuples = [('skl_div', el) for el in dependent_regressor_tags]\n",
    "pvdm_dist = [('pvdm_dist', el) for el in dependent_regressor_tags]\n",
    "dbow_dist = [('dbow_dist', el) for el in dependent_regressor_tags]"
   ]
  },
  {
   "cell_type": "markdown",
   "id": "114deb61",
   "metadata": {},
   "source": [
    "(a) Regression using kl_div as the independent variable"
   ]
  },
  {
   "cell_type": "code",
   "execution_count": 46,
   "id": "5c404801",
   "metadata": {},
   "outputs": [],
   "source": [
    "# Regressions using minutes_dist_regression\n",
    "minutes_kldiv_result = [regression(minutes_dist_regression[item[0]], minutes_dist_regression[item[1]]) for item \n",
    "                        in kl_div_tuples]\n",
    "\n",
    "# Regressions using TealbookA_dist_regression\n",
    "TealbookA_kldiv_result = [regression(TealbookA_dist_regression[item[0]], TealbookA_dist_regression[item[1]]) for item \n",
    "                         in kl_div_tuples]\n",
    "\n",
    "# Regressions using TealbookB_dist_regression\n",
    "TealbookB_kldiv_result = [regression(TealbookB_dist_regression[item[0]], TealbookB_dist_regression[item[1]]) for item \n",
    "                         in kl_div_tuples]"
   ]
  },
  {
   "cell_type": "code",
   "execution_count": 65,
   "id": "6c60c0b4",
   "metadata": {},
   "outputs": [],
   "source": [
    "# # Printing minutes - kl_div regression results. See output tables in Conclusion section.\n",
    "\n",
    "# for i in range(len(dependent_regressor_tags)):\n",
    "#     print(\"The regression results for kl_div as independent variable and \"+dependent_regressor_tags[i]+\" as dependent variable:\")\n",
    "#     print(minutes_kldiv_result[i].summary())"
   ]
  },
  {
   "cell_type": "code",
   "execution_count": 66,
   "id": "df059567",
   "metadata": {},
   "outputs": [],
   "source": [
    "# # Printing TealbookA - kl_div regression results. See output tables in Conclusion section.\n",
    "\n",
    "# for i in range(len(dependent_regressor_tags)):\n",
    "#     print(\"The regression results for kl_div as independent variable and \"+dependent_regressor_tags[i]+\" as dependent variable:\")\n",
    "#     print(TealbookA_kldiv_result[i].summary())"
   ]
  },
  {
   "cell_type": "code",
   "execution_count": 67,
   "id": "dac5353a",
   "metadata": {},
   "outputs": [],
   "source": [
    "# # Printing TealbookB - kl_div regression results. See output tables in Conclusion section.\n",
    "\n",
    "# for i in range(len(dependent_regressor_tags)):\n",
    "#     print(\"The regression results for kl_div as independent variable and \"+dependent_regressor_tags[i]+\" as dependent variable:\")\n",
    "#     print(TealbookB_kldiv_result[i].summary())"
   ]
  },
  {
   "cell_type": "markdown",
   "id": "8d31a093",
   "metadata": {},
   "source": [
    "______________________"
   ]
  },
  {
   "cell_type": "markdown",
   "id": "c05ba9c4",
   "metadata": {},
   "source": [
    "(b) Regression using skl_div as the independent variable"
   ]
  },
  {
   "cell_type": "code",
   "execution_count": 50,
   "id": "7b28b592",
   "metadata": {},
   "outputs": [
    {
     "name": "stderr",
     "output_type": "stream",
     "text": [
      "/apps/anaconda3/lib/python3.9/site-packages/statsmodels/tsa/tsatools.py:142: FutureWarning: In a future version of pandas all arguments of concat except for the argument 'objs' will be keyword-only\n",
      "  x = pd.concat(x[::order], 1)\n"
     ]
    }
   ],
   "source": [
    "# Regressions using minutes_dist_regression\n",
    "minutes_skldiv_result = [regression(minutes_dist_regression[item[0]], minutes_dist_regression[item[1]]) for item in skl_div_tuples]\n",
    "\n",
    "# Regressions using TealbookA_dist_regression\n",
    "TealbookA_skldiv_result = [regression(TealbookA_dist_regression[item[0]], TealbookA_dist_regression[item[1]]) for item \n",
    "                         in skl_div_tuples]\n",
    "\n",
    "# Regressions using TealbookB_dist_regression\n",
    "TealbookB_skldiv_result = [regression(TealbookB_dist_regression[item[0]], TealbookB_dist_regression[item[1]]) for item \n",
    "                         in skl_div_tuples]"
   ]
  },
  {
   "cell_type": "code",
   "execution_count": 68,
   "id": "3bbe9d96",
   "metadata": {},
   "outputs": [],
   "source": [
    "# # Printing minutes - skl_div regression results. See output tables in Conclusion section.\n",
    "\n",
    "# for i in range(len(dependent_regressor_tags)):\n",
    "#     print(\"The regression results for skl_div as independent variable and \"+dependent_regressor_tags[i]+\" as dependent variable:\")\n",
    "#     print(minutes_skldiv_result[i].summary())"
   ]
  },
  {
   "cell_type": "code",
   "execution_count": 69,
   "id": "20272a6c",
   "metadata": {},
   "outputs": [],
   "source": [
    "# # Printing TealbookA - skl_div regression results. See output tables in Conclusion section.\n",
    "\n",
    "# for i in range(len(dependent_regressor_tags)):\n",
    "#     print(\"The regression results for skl_div as independent variable and \"+dependent_regressor_tags[i]+\" as dependent variable:\")\n",
    "#     print(TealbookA_skldiv_result[i].summary())"
   ]
  },
  {
   "cell_type": "code",
   "execution_count": 70,
   "id": "7cfe02d5",
   "metadata": {},
   "outputs": [],
   "source": [
    "# # Printing TealbookB - skl_div regression results. See output tables in Conclusion section.\n",
    "\n",
    "# for i in range(len(dependent_regressor_tags)):\n",
    "#     print(\"The regression results for skl_div as independent variable and \"+dependent_regressor_tags[i]+\" as dependent variable:\")\n",
    "#     print(TealbookB_skldiv_result[i].summary())"
   ]
  },
  {
   "cell_type": "markdown",
   "id": "e0cf984a",
   "metadata": {},
   "source": [
    "__________________________________________"
   ]
  },
  {
   "cell_type": "markdown",
   "id": "2e5ff40a",
   "metadata": {},
   "source": [
    "(c) Regression using PVDM distance as independent variable"
   ]
  },
  {
   "cell_type": "code",
   "execution_count": 55,
   "id": "cd06d6d0",
   "metadata": {},
   "outputs": [
    {
     "name": "stderr",
     "output_type": "stream",
     "text": [
      "/apps/anaconda3/lib/python3.9/site-packages/statsmodels/tsa/tsatools.py:142: FutureWarning: In a future version of pandas all arguments of concat except for the argument 'objs' will be keyword-only\n",
      "  x = pd.concat(x[::order], 1)\n"
     ]
    }
   ],
   "source": [
    "# Regressions using minutes_dist_regression\n",
    "minutes_pvdm_result = [regression(minutes_dist_regression[item[0]], minutes_dist_regression[item[1]]) for item in pvdm_dist]\n",
    "\n",
    "# Regressions using TealbookA_dist_regression\n",
    "TealbookA_pvdm_result = [regression(TealbookA_dist_regression[item[0]], TealbookA_dist_regression[item[1]]) for item \n",
    "                         in pvdm_dist]\n",
    "\n",
    "# Regressions using TealbookB_dist_regression\n",
    "TealbookB_pvdm_result = [regression(TealbookB_dist_regression[item[0]], TealbookB_dist_regression[item[1]]) for item \n",
    "                         in pvdm_dist]"
   ]
  },
  {
   "cell_type": "code",
   "execution_count": 71,
   "id": "f2e47995",
   "metadata": {},
   "outputs": [],
   "source": [
    "# # Printing minutes - pvdm_dist regression results. See output tables in Conclusion section.\n",
    "\n",
    "# for i in range(len(dependent_regressor_tags)):\n",
    "#     print(\"The regression results for pvdm_dist as independent variable and \"+dependent_regressor_tags[i]+\" as dependent variable:\")\n",
    "#     print(minutes_pvdm_result[i].summary())\n",
    "#     print(minutes_pvdm_result[i].params)"
   ]
  },
  {
   "cell_type": "code",
   "execution_count": 72,
   "id": "805b0839",
   "metadata": {},
   "outputs": [],
   "source": [
    "# # Printing TealbookA - pvdm_dist regression results. See output tables in Conclusion section.\n",
    "\n",
    "# for i in range(len(dependent_regressor_tags)):\n",
    "#     print(\"The regression results for pvdm_dist as independent variable and \"+dependent_regressor_tags[i]+\" as dependent variable:\")\n",
    "#     print(TealbookA_pvdm_result[i].summary())"
   ]
  },
  {
   "cell_type": "code",
   "execution_count": 73,
   "id": "a8e26fe4",
   "metadata": {},
   "outputs": [],
   "source": [
    "# # Printing TealbookB - pvdm_dist regression results. See output tables in Conclusion section.\n",
    "\n",
    "# for i in range(len(dependent_regressor_tags)):\n",
    "#     print(\"The regression results for pvdm_dist as independent variable and \"+dependent_regressor_tags[i]+\" as dependent variable:\")\n",
    "#     print(TealbookB_pvdm_result[i].summary())"
   ]
  },
  {
   "cell_type": "markdown",
   "id": "c9343181",
   "metadata": {},
   "source": [
    "_________________________"
   ]
  },
  {
   "cell_type": "markdown",
   "id": "9d92cfc7",
   "metadata": {},
   "source": [
    "(d) Regression using DBOW distance as independent variable"
   ]
  },
  {
   "cell_type": "code",
   "execution_count": 61,
   "id": "d62852c8",
   "metadata": {},
   "outputs": [
    {
     "name": "stderr",
     "output_type": "stream",
     "text": [
      "/apps/anaconda3/lib/python3.9/site-packages/statsmodels/tsa/tsatools.py:142: FutureWarning: In a future version of pandas all arguments of concat except for the argument 'objs' will be keyword-only\n",
      "  x = pd.concat(x[::order], 1)\n"
     ]
    }
   ],
   "source": [
    "# Regressions using minutes_dist_regression\n",
    "minutes_dbow_result = [regression(minutes_dist_regression[item[0]], minutes_dist_regression[item[1]]) for item in dbow_dist]\n",
    "\n",
    "# Regressions using TealbookA_dist_regression\n",
    "TealbookA_dbow_result = [regression(TealbookA_dist_regression[item[0]], TealbookA_dist_regression[item[1]]) for item \n",
    "                         in dbow_dist]\n",
    "\n",
    "# Regressions using TealbookB_dist_regression\n",
    "TealbookB_dbow_result = [regression(TealbookB_dist_regression[item[0]], TealbookB_dist_regression[item[1]]) for item \n",
    "                         in dbow_dist]"
   ]
  },
  {
   "cell_type": "code",
   "execution_count": 74,
   "id": "a2091a61",
   "metadata": {},
   "outputs": [],
   "source": [
    "# # Printing minutes - dbow_dist regression results. See output tables in Conclusion section.\n",
    "\n",
    "# for i in range(len(dependent_regressor_tags)):\n",
    "#     print(\"The regression results for dbow_dist as independent variable and \"+dependent_regressor_tags[i]+\" as dependent variable:\")\n",
    "#     print(minutes_dbow_result[i].summary())"
   ]
  },
  {
   "cell_type": "code",
   "execution_count": 75,
   "id": "db16fc00",
   "metadata": {},
   "outputs": [],
   "source": [
    "# # Printing TealbookA - dbow_dist regression results. See output tables in Conclusion section.\n",
    "\n",
    "# for i in range(len(dependent_regressor_tags)):\n",
    "#     print(\"The regression results for dbow_dist as independent variable and \"+dependent_regressor_tags[i]+\" as dependent variable:\")\n",
    "#     print(TealbookA_dbow_result[i].summary())"
   ]
  },
  {
   "cell_type": "code",
   "execution_count": 76,
   "id": "f7300ca5",
   "metadata": {},
   "outputs": [],
   "source": [
    "# # Printing TealbookB - dbow_dist regression results. See output tables in Conclusion section.\n",
    "\n",
    "# for i in range(len(dependent_regressor_tags)):\n",
    "#     print(\"The regression results for dbow_dist as independent variable and \"+dependent_regressor_tags[i]+\" as dependent variable:\")\n",
    "#     print(TealbookB_dbow_result[i].summary())"
   ]
  },
  {
   "cell_type": "markdown",
   "id": "f79d3d8b",
   "metadata": {},
   "source": [
    "## 3. Conclusion\n",
    "In each of the below tables, the row indices denote the dependent variables from each of the above stated regression models and the column indices denote the independent variables. Note that from the above, each regression includes only one predictor, thus, for example, the entry in the row $\\sigma^{\\text{hist}}$ with column $\\text{sLDA}$ denotes the estimated coefficient found from regressing $\\sigma^{\\text{hist}}$ on $\\text{sLDA}$ and a constant (we do not include the estimated intercepts). As is standard, *** denotes significance at the 0.1% level, ** significance at the 1% level, and * significance at the 5% level. The values in parenthesis denote the OLS standard errors for the represented coefficient."
   ]
  },
  {
   "cell_type": "markdown",
   "id": "ffe351cf",
   "metadata": {},
   "source": [
    "### 3.1: Sentiment Scores"
   ]
  },
  {
   "cell_type": "markdown",
   "id": "02931477",
   "metadata": {},
   "source": [
    "| FOMC Minutes | $\\text{sBOW}$ | $\\text{sLDA}$ |\n",
    "| --- | --- | --- |\n",
    "| $\\sigma^{\\text{hist}}$ | -0.8152***<br>(0.233) | -1.4174***<br>(0.382) |\n",
    "| $\\sigma^{\\text{fut}}$ | -0.8790**<br>(0.282) | -1.5259***<br>(0.463) |\n",
    "| $\\text{YC}^{\\text{hist}}$ | 2.5489***<br>(0.727) | 4.5897***<br>(1.187) |\n",
    "| $\\text{YC}^{\\text{fut}}$ | -0.9661<br>(0.865) | -1.7777<br>(1.424) |"
   ]
  },
  {
   "cell_type": "markdown",
   "id": "85d354cf",
   "metadata": {},
   "source": [
    "| FOMC Tealbook A | $\\text{sBOW}$ | $\\text{sLDA}$ |\n",
    "| --- | --- | --- |\n",
    "| $\\sigma^{\\text{hist}}$ | 0.26510<br>(0.341) | 3.4118***<br>(0.606) |\n",
    "| $\\sigma^{\\text{fut}}$ | -0.0703<br>(0.332) | 3.1965***<br>(0.592) |\n",
    "| $\\text{YC}^{\\text{hist}}$ | -0.1205<br>(1.124) | -1.9044<br>(2.210) |\n",
    "| $\\text{YC}^{\\text{fut}}$ | 1.6705<br>(0.928) | 0.4968<br>(1.850) |"
   ]
  },
  {
   "cell_type": "markdown",
   "id": "ff59aa13",
   "metadata": {},
   "source": [
    "| FOMC Tealbook B | $\\text{sBOW}$ | $\\text{sLDA}$ |\n",
    "| --- | --- | --- |\n",
    "| $\\sigma^{\\text{hist}}$ | -2.0518***<br>(0.250) | -2.8378***<br>(0.295) |\n",
    "| $\\sigma^{\\text{fut}}$ | -1.9126***<br>(0.275) | -2.5937***<br>(0.333) |\n",
    "| $\\text{YC}^{\\text{hist}}$ | 1.3064<br>(0.903) | 1.6007<br>(1.131) |\n",
    "| $\\text{YC}^{\\text{fut}}$ | 1.3998<br>(1.015) | 2.0078<br>(1.268) |"
   ]
  },
  {
   "cell_type": "markdown",
   "id": "ee87c63a",
   "metadata": {},
   "source": [
    "Our main takeaways from our sentiment scores regressions are the following: \n",
    "<br>\n",
    "**(i)** The LDA-based sentiment scores outperform the BOW sentiment scores across all three document types on average. Given the BOW sentiment scores represent the standard approach, our results indicate that LDA-based sentiment scores should be explored in other corpora to evaluate their broad-based performance. Not only are the LDA-based sentiment scores more statistically significant on average, the coefficients are also larger magnitudes.\n",
    "<br>\n",
    "**(ii)** The FOMC Minutes and Tealbook B's deliver expected results for the volatility regressions; that is, an increase in the sentiment score of an FOMC document should on average produce a decrease in \"local\" volatility. However, the FOMC Tealbook A regressions yield a different narrative; namely, a one-unit increase in the LDA-based sentiment score leads to \"local\" volatility that is more than 3 percentage points higher, a magnitude that exceeds that of the corresponding decrease in \"local\" volatility estimated by the Minutes and Tealbook B regressions. The economic rationale for this conclusion is not immediately clear to us."
   ]
  },
  {
   "cell_type": "markdown",
   "id": "3432b6a7",
   "metadata": {},
   "source": [
    "### 3.2: Distance Measures"
   ]
  },
  {
   "cell_type": "markdown",
   "id": "1ec0d261",
   "metadata": {},
   "source": [
    "| FOMC Minutes | $\\text{KL}$ | $\\text{SKL}$ | $\\text{PV-DM}$ | $\\text{DBOW}$ |\n",
    "| --- | --- | --- | --- | --- |\n",
    "| $\\sigma^{\\text{hist}}$ | -0.0024<br>(0.001) | -0.0046*<br>(0.002) | -0.0022<br>(0.002) | -0.0052<br>(0.003) |\n",
    "| $\\sigma^{\\text{fut}}$ | -0.0043**<br>(0.001) | -0.0055*<br>(0.002) | -0.0033<br>(0.002) | -0.0105**<br>(0.003) |\n",
    "| $\\text{AYC}^{\\text{hist}}$ | -0.0023<br>(0.003) | -0.0072<br>(0.004) | -0.0015<br>(0.003) | -0.0012<br>(0.006) |\n",
    "| $\\text{AYC}^{\\text{fut}}$ | -0.0084**<br>(0.003) | -0.0097*<br>(0.005) | -0.002810<br>(0.004) | -0.0142*<br>(0.007) |"
   ]
  },
  {
   "cell_type": "markdown",
   "id": "e0c10d64",
   "metadata": {},
   "source": [
    "| FOMC Tealbook A | $\\text{KL}$ | $\\text{SKL}$ | $\\text{PV-DM}$ | $\\text{DBOW}$ |\n",
    "| --- | --- | --- | --- | --- |\n",
    "| $\\sigma^{\\text{hist}}$ | -0.0013<br>(0.001) | -0.0019<br>(0.001) | -0.0051***<br>(0.001) | -0.0053*<br>(0.002) |\n",
    "| $\\sigma^{\\text{fut}}$ | -0.0024*<br>(0.001) | -0.0027**<br>(0.001) | -0.0060***<br>(0.001) | -0.0082***<br>(0.002) |\n",
    "| $\\text{AYC}^{\\text{hist}}$ | -0.0035<br>(0.002) | -0.0045*<br>(0.002) | -0.012***<br>(0.003) | -0.0103<br>(0.005) |\n",
    "| $\\text{AYC}^{\\text{fut}}$ | -0.0037<br>0.002) | -0.0039*<br>(0.002) | -0.0081***<br>(0.002) | -0.0108*<br>(0.004) |"
   ]
  },
  {
   "cell_type": "markdown",
   "id": "fbf5eb15",
   "metadata": {},
   "source": [
    "| FOMC Tealbook B | $\\text{KL}$ | $\\text{SKL}$ | $\\text{PV-DM}$ | $\\text{DBOW}$ |\n",
    "| --- | --- | --- | --- | --- |\n",
    "| $\\sigma^{\\text{hist}}$ | 0.0188<br>(0.01) | 0.0265**<br>(0.009) | 0.0019<br>(0.002) | 0.0121***<br>(0.003) |\n",
    "| $\\sigma^{\\text{fut}}$ | 0.0023<br>(0.011) | 0.0096<br>(0.009) | 0.0028<br>(0.002) | 0.0119***<br>(0.004) |\n",
    "| $\\text{AYC}^{\\text{hist}}$ | 0.0173<br>(0.021) | 0.0324<br>(0.019) | 0.0013<br>(0.004) | 0.0203**<br>(0.007) |\n",
    "| $\\text{AYC}^{\\text{fut}}$ | 0.0038<br>(0.024 | 0.0225)<br>(0.021) | 0.004966<br>(0.004) | 0.0222**<br>(0.008) |"
   ]
  },
  {
   "cell_type": "markdown",
   "id": "8addc753",
   "metadata": {},
   "source": [
    "Our main takeaways from our distance measures regressions are the following: \n",
    "<br>\n",
    "**(i)** The sentiment-adjusted KL divergence is a more significant regressor than the non-sentiment-adjusted KL divergence across all three document types on average (except for the Minutes where the non-sentiment-adjusted KL divergence is marginally superior)\n",
    "<br>\n",
    "**(ii)** The doc2vec-based distance measures perform significantly better than both divergence measures for the Tealbooks, with the PV-DM doc2vec implementation achieving significance at the 0.1%  level for all dependent variables for Tealbook A and the DBOW implementation achieving significance at or better than the 1% level for all dependent variables for Tealbook B.\n",
    "<br>\n",
    "**(iii)** There is a disagreement in the sign of the effects across the three document types, with the Minutes and Tealbook A regressions indicating that an increase in the \"distance\" between consecutive documents leads to a decrease in our dependent variables, whereas the Tealbook B regressions produce the more expected result that an increase in the \"distance\" between consecutive documents produces an increase in our dependent variables."
   ]
  }
 ],
 "metadata": {
  "kernelspec": {
   "display_name": "Python 3",
   "language": "python",
   "name": "python3"
  },
  "language_info": {
   "codemirror_mode": {
    "name": "ipython",
    "version": 3
   },
   "file_extension": ".py",
   "mimetype": "text/x-python",
   "name": "python",
   "nbconvert_exporter": "python",
   "pygments_lexer": "ipython3",
   "version": "3.8.8"
  }
 },
 "nbformat": 4,
 "nbformat_minor": 5
}
